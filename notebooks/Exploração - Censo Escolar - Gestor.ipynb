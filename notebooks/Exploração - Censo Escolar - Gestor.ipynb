{
 "cells": [
  {
   "cell_type": "markdown",
   "metadata": {},
   "source": [
    "# Exploração - Censo Escolar - Gestor"
   ]
  },
  {
   "cell_type": "markdown",
   "metadata": {},
   "source": [
    "**OBJETIVOS**: Explorar a base de Gestor do censo escolar e fazer o rascunho do processamento de dados"
   ]
  },
  {
   "cell_type": "markdown",
   "metadata": {},
   "source": [
    "---"
   ]
  },
  {
   "cell_type": "markdown",
   "metadata": {},
   "source": [
    "## Cabeçalho "
   ]
  },
  {
   "cell_type": "markdown",
   "metadata": {},
   "source": [
    "### Imports "
   ]
  },
  {
   "cell_type": "code",
   "execution_count": 1,
   "metadata": {
    "ExecuteTime": {
     "end_time": "2021-10-18T13:16:45.186154Z",
     "start_time": "2021-10-18T13:16:44.851925Z"
    }
   },
   "outputs": [],
   "source": [
    "import os\n",
    "import pyunpack\n",
    "import rarfile\n",
    "import shutil\n",
    "import zipfile\n",
    "import numpy as np\n",
    "import pandas as pd\n",
    "\n",
    "from pathlib import Path\n",
    "from tqdm import tqdm"
   ]
  },
  {
   "cell_type": "markdown",
   "metadata": {},
   "source": [
    "### Caminhos "
   ]
  },
  {
   "cell_type": "code",
   "execution_count": 2,
   "metadata": {
    "ExecuteTime": {
     "end_time": "2021-10-18T13:16:45.486179Z",
     "start_time": "2021-10-18T13:16:45.476205Z"
    }
   },
   "outputs": [],
   "source": [
    "PASTA_PROJETO = Path(\"C:/Users/pedro.forli/PycharmProjects/curso-ciencia-dados\")\n",
    "PASTA_DADOS = PASTA_PROJETO / \"dados\"\n",
    "PASTA_SAIDA = PASTA_PROJETO / \"saidas\"\n",
    "PASTA_NOTEBOOK = PASTA_PROJETO / \"notebooks\"\n",
    "os.chdir(PASTA_PROJETO)"
   ]
  },
  {
   "cell_type": "markdown",
   "metadata": {},
   "source": [
    "### Variáveis "
   ]
  },
  {
   "cell_type": "code",
   "execution_count": null,
   "metadata": {},
   "outputs": [],
   "source": []
  },
  {
   "cell_type": "markdown",
   "metadata": {},
   "source": [
    "### Configurações "
   ]
  },
  {
   "cell_type": "code",
   "execution_count": 3,
   "metadata": {
    "ExecuteTime": {
     "end_time": "2021-10-18T13:16:46.954200Z",
     "start_time": "2021-10-18T13:16:46.851957Z"
    }
   },
   "outputs": [],
   "source": [
    "%config Completer.use_jedi = False\n",
    "%load_ext autoreload\n",
    "%autoreload 2"
   ]
  },
  {
   "cell_type": "markdown",
   "metadata": {},
   "source": [
    "### Código Próprio "
   ]
  },
  {
   "cell_type": "code",
   "execution_count": 4,
   "metadata": {
    "ExecuteTime": {
     "end_time": "2021-10-18T13:16:48.281908Z",
     "start_time": "2021-10-18T13:16:47.284067Z"
    }
   },
   "outputs": [],
   "source": [
    "import src.io.le_dados as le_dados\n",
    "import src.io.caminho as caminho\n",
    "import src.io.data_store as data_store"
   ]
  },
  {
   "cell_type": "markdown",
   "metadata": {},
   "source": [
    "---"
   ]
  },
  {
   "cell_type": "markdown",
   "metadata": {},
   "source": [
    "## Carregamento de Dados "
   ]
  },
  {
   "cell_type": "code",
   "execution_count": 34,
   "metadata": {
    "ExecuteTime": {
     "end_time": "2021-10-16T17:17:07.198503Z",
     "start_time": "2021-10-16T17:17:05.742916Z"
    }
   },
   "outputs": [],
   "source": [
    "os.chdir(PASTA_PROJETO)\n",
    "dados = {\n",
    "    f: le_dados.le_dados_comprimidos(\n",
    "        f\"dados/completo/externo/censo_escolar/{f}\",\n",
    "        ext=\"zip\",\n",
    "        como_df=True,\n",
    "        padrao_comp=\"(gestor|GESTOR|Gestor)[.](csv|CSV|rar|RAR|zip|ZIP)\",\n",
    "        sep=\"|\",\n",
    "        encoding=\"latin-1\",\n",
    "    )\n",
    "    for f in os.listdir(\"dados/completo/externo/censo_escolar\")\n",
    "}\n",
    "dados = {k: v for k, v in dados.items() if v is not None}"
   ]
  },
  {
   "cell_type": "markdown",
   "metadata": {},
   "source": [
    "---"
   ]
  },
  {
   "cell_type": "markdown",
   "metadata": {},
   "source": [
    "## Exploração "
   ]
  },
  {
   "cell_type": "markdown",
   "metadata": {},
   "source": [
    "Visualiza como os dados aparecem na base"
   ]
  },
  {
   "cell_type": "code",
   "execution_count": 19,
   "metadata": {
    "ExecuteTime": {
     "end_time": "2021-10-16T16:10:06.887232Z",
     "start_time": "2021-10-16T16:10:06.774533Z"
    }
   },
   "outputs": [
    {
     "data": {
      "text/html": [
       "<div>\n",
       "<style scoped>\n",
       "    .dataframe tbody tr th:only-of-type {\n",
       "        vertical-align: middle;\n",
       "    }\n",
       "\n",
       "    .dataframe tbody tr th {\n",
       "        vertical-align: top;\n",
       "    }\n",
       "\n",
       "    .dataframe thead th {\n",
       "        text-align: right;\n",
       "    }\n",
       "</style>\n",
       "<table border=\"1\" class=\"dataframe\">\n",
       "  <thead>\n",
       "    <tr style=\"text-align: right;\">\n",
       "      <th></th>\n",
       "      <th>NU_ANO_CENSO</th>\n",
       "      <th>ID_GESTOR</th>\n",
       "      <th>NU_MES</th>\n",
       "      <th>NU_ANO</th>\n",
       "      <th>NU_IDADE_REFERENCIA</th>\n",
       "      <th>NU_IDADE</th>\n",
       "      <th>TP_SEXO</th>\n",
       "      <th>TP_COR_RACA</th>\n",
       "      <th>TP_NACIONALIDADE</th>\n",
       "      <th>CO_PAIS_ORIGEM</th>\n",
       "      <th>...</th>\n",
       "      <th>IN_MANT_ESCOLA_PRIVADA_EMP</th>\n",
       "      <th>IN_MANT_ESCOLA_PRIVADA_ONG</th>\n",
       "      <th>IN_MANT_ESCOLA_PRIV_ONG_OSCIP</th>\n",
       "      <th>IN_MANT_ESCOLA_PRIVADA_OSCIP</th>\n",
       "      <th>IN_MANT_ESCOLA_PRIVADA_SIND</th>\n",
       "      <th>IN_MANT_ESCOLA_PRIVADA_SIST_S</th>\n",
       "      <th>IN_MANT_ESCOLA_PRIVADA_S_FINS</th>\n",
       "      <th>TP_REGULAMENTACAO</th>\n",
       "      <th>TP_LOCALIZACAO_DIFERENCIADA</th>\n",
       "      <th>IN_EDUCACAO_INDIGENA</th>\n",
       "    </tr>\n",
       "  </thead>\n",
       "  <tbody>\n",
       "    <tr>\n",
       "      <th>0</th>\n",
       "      <td>2020</td>\n",
       "      <td>0806A47682ED9B2623545A093A78E251</td>\n",
       "      <td>6</td>\n",
       "      <td>1963</td>\n",
       "      <td>56</td>\n",
       "      <td>57</td>\n",
       "      <td>2</td>\n",
       "      <td>0</td>\n",
       "      <td>1</td>\n",
       "      <td>76</td>\n",
       "      <td>...</td>\n",
       "      <td>NaN</td>\n",
       "      <td>NaN</td>\n",
       "      <td>NaN</td>\n",
       "      <td>NaN</td>\n",
       "      <td>NaN</td>\n",
       "      <td>NaN</td>\n",
       "      <td>NaN</td>\n",
       "      <td>0</td>\n",
       "      <td>0</td>\n",
       "      <td>0</td>\n",
       "    </tr>\n",
       "    <tr>\n",
       "      <th>1</th>\n",
       "      <td>2020</td>\n",
       "      <td>EAB8B462AF980DD0573716BA48E4CF65</td>\n",
       "      <td>2</td>\n",
       "      <td>1968</td>\n",
       "      <td>52</td>\n",
       "      <td>52</td>\n",
       "      <td>2</td>\n",
       "      <td>4</td>\n",
       "      <td>1</td>\n",
       "      <td>76</td>\n",
       "      <td>...</td>\n",
       "      <td>NaN</td>\n",
       "      <td>NaN</td>\n",
       "      <td>NaN</td>\n",
       "      <td>NaN</td>\n",
       "      <td>NaN</td>\n",
       "      <td>NaN</td>\n",
       "      <td>NaN</td>\n",
       "      <td>1</td>\n",
       "      <td>0</td>\n",
       "      <td>0</td>\n",
       "    </tr>\n",
       "    <tr>\n",
       "      <th>2</th>\n",
       "      <td>2020</td>\n",
       "      <td>524EBEBA473F580794138450E3D14280</td>\n",
       "      <td>12</td>\n",
       "      <td>1976</td>\n",
       "      <td>43</td>\n",
       "      <td>44</td>\n",
       "      <td>2</td>\n",
       "      <td>1</td>\n",
       "      <td>1</td>\n",
       "      <td>76</td>\n",
       "      <td>...</td>\n",
       "      <td>1.0</td>\n",
       "      <td>0.0</td>\n",
       "      <td>0.0</td>\n",
       "      <td>0.0</td>\n",
       "      <td>0.0</td>\n",
       "      <td>0.0</td>\n",
       "      <td>0.0</td>\n",
       "      <td>1</td>\n",
       "      <td>0</td>\n",
       "      <td>0</td>\n",
       "    </tr>\n",
       "    <tr>\n",
       "      <th>3</th>\n",
       "      <td>2020</td>\n",
       "      <td>5CA8772535CE419ED1C8A3562D5836A4</td>\n",
       "      <td>12</td>\n",
       "      <td>1945</td>\n",
       "      <td>74</td>\n",
       "      <td>75</td>\n",
       "      <td>2</td>\n",
       "      <td>0</td>\n",
       "      <td>1</td>\n",
       "      <td>76</td>\n",
       "      <td>...</td>\n",
       "      <td>1.0</td>\n",
       "      <td>0.0</td>\n",
       "      <td>0.0</td>\n",
       "      <td>0.0</td>\n",
       "      <td>0.0</td>\n",
       "      <td>0.0</td>\n",
       "      <td>0.0</td>\n",
       "      <td>1</td>\n",
       "      <td>0</td>\n",
       "      <td>0</td>\n",
       "    </tr>\n",
       "    <tr>\n",
       "      <th>4</th>\n",
       "      <td>2020</td>\n",
       "      <td>EF19AAEE073A092AB527A0F324BDFEFD</td>\n",
       "      <td>1</td>\n",
       "      <td>1976</td>\n",
       "      <td>44</td>\n",
       "      <td>44</td>\n",
       "      <td>1</td>\n",
       "      <td>1</td>\n",
       "      <td>1</td>\n",
       "      <td>76</td>\n",
       "      <td>...</td>\n",
       "      <td>1.0</td>\n",
       "      <td>0.0</td>\n",
       "      <td>0.0</td>\n",
       "      <td>0.0</td>\n",
       "      <td>0.0</td>\n",
       "      <td>0.0</td>\n",
       "      <td>0.0</td>\n",
       "      <td>1</td>\n",
       "      <td>0</td>\n",
       "      <td>0</td>\n",
       "    </tr>\n",
       "  </tbody>\n",
       "</table>\n",
       "<p>5 rows × 83 columns</p>\n",
       "</div>"
      ],
      "text/plain": [
       "   NU_ANO_CENSO                         ID_GESTOR  NU_MES  NU_ANO  \\\n",
       "0          2020  0806A47682ED9B2623545A093A78E251       6    1963   \n",
       "1          2020  EAB8B462AF980DD0573716BA48E4CF65       2    1968   \n",
       "2          2020  524EBEBA473F580794138450E3D14280      12    1976   \n",
       "3          2020  5CA8772535CE419ED1C8A3562D5836A4      12    1945   \n",
       "4          2020  EF19AAEE073A092AB527A0F324BDFEFD       1    1976   \n",
       "\n",
       "   NU_IDADE_REFERENCIA  NU_IDADE  TP_SEXO  TP_COR_RACA  TP_NACIONALIDADE  \\\n",
       "0                   56        57        2            0                 1   \n",
       "1                   52        52        2            4                 1   \n",
       "2                   43        44        2            1                 1   \n",
       "3                   74        75        2            0                 1   \n",
       "4                   44        44        1            1                 1   \n",
       "\n",
       "   CO_PAIS_ORIGEM  ...  IN_MANT_ESCOLA_PRIVADA_EMP  \\\n",
       "0              76  ...                         NaN   \n",
       "1              76  ...                         NaN   \n",
       "2              76  ...                         1.0   \n",
       "3              76  ...                         1.0   \n",
       "4              76  ...                         1.0   \n",
       "\n",
       "   IN_MANT_ESCOLA_PRIVADA_ONG  IN_MANT_ESCOLA_PRIV_ONG_OSCIP  \\\n",
       "0                         NaN                            NaN   \n",
       "1                         NaN                            NaN   \n",
       "2                         0.0                            0.0   \n",
       "3                         0.0                            0.0   \n",
       "4                         0.0                            0.0   \n",
       "\n",
       "   IN_MANT_ESCOLA_PRIVADA_OSCIP  IN_MANT_ESCOLA_PRIVADA_SIND  \\\n",
       "0                           NaN                          NaN   \n",
       "1                           NaN                          NaN   \n",
       "2                           0.0                          0.0   \n",
       "3                           0.0                          0.0   \n",
       "4                           0.0                          0.0   \n",
       "\n",
       "   IN_MANT_ESCOLA_PRIVADA_SIST_S  IN_MANT_ESCOLA_PRIVADA_S_FINS  \\\n",
       "0                            NaN                            NaN   \n",
       "1                            NaN                            NaN   \n",
       "2                            0.0                            0.0   \n",
       "3                            0.0                            0.0   \n",
       "4                            0.0                            0.0   \n",
       "\n",
       "   TP_REGULAMENTACAO  TP_LOCALIZACAO_DIFERENCIADA  IN_EDUCACAO_INDIGENA  \n",
       "0                  0                            0                     0  \n",
       "1                  1                            0                     0  \n",
       "2                  1                            0                     0  \n",
       "3                  1                            0                     0  \n",
       "4                  1                            0                     0  \n",
       "\n",
       "[5 rows x 83 columns]"
      ]
     },
     "execution_count": 19,
     "metadata": {},
     "output_type": "execute_result"
    }
   ],
   "source": [
    "dados[\"2020.zip\"].head()"
   ]
  },
  {
   "cell_type": "code",
   "execution_count": 20,
   "metadata": {
    "ExecuteTime": {
     "end_time": "2021-10-16T16:10:14.885878Z",
     "start_time": "2021-10-16T16:10:14.766635Z"
    }
   },
   "outputs": [
    {
     "data": {
      "text/html": [
       "<div>\n",
       "<style scoped>\n",
       "    .dataframe tbody tr th:only-of-type {\n",
       "        vertical-align: middle;\n",
       "    }\n",
       "\n",
       "    .dataframe tbody tr th {\n",
       "        vertical-align: top;\n",
       "    }\n",
       "\n",
       "    .dataframe thead th {\n",
       "        text-align: right;\n",
       "    }\n",
       "</style>\n",
       "<table border=\"1\" class=\"dataframe\">\n",
       "  <thead>\n",
       "    <tr style=\"text-align: right;\">\n",
       "      <th></th>\n",
       "      <th>NU_ANO_CENSO</th>\n",
       "      <th>ID_GESTOR</th>\n",
       "      <th>NU_MES</th>\n",
       "      <th>NU_ANO</th>\n",
       "      <th>NU_IDADE_REFERENCIA</th>\n",
       "      <th>NU_IDADE</th>\n",
       "      <th>TP_SEXO</th>\n",
       "      <th>TP_COR_RACA</th>\n",
       "      <th>TP_NACIONALIDADE</th>\n",
       "      <th>CO_PAIS_ORIGEM</th>\n",
       "      <th>...</th>\n",
       "      <th>IN_MANT_ESCOLA_PRIVADA_EMP</th>\n",
       "      <th>IN_MANT_ESCOLA_PRIVADA_ONG</th>\n",
       "      <th>IN_MANT_ESCOLA_PRIV_ONG_OSCIP</th>\n",
       "      <th>IN_MANT_ESCOLA_PRIVADA_OSCIP</th>\n",
       "      <th>IN_MANT_ESCOLA_PRIVADA_SIND</th>\n",
       "      <th>IN_MANT_ESCOLA_PRIVADA_SIST_S</th>\n",
       "      <th>IN_MANT_ESCOLA_PRIVADA_S_FINS</th>\n",
       "      <th>TP_REGULAMENTACAO</th>\n",
       "      <th>TP_LOCALIZACAO_DIFERENCIADA</th>\n",
       "      <th>IN_EDUCACAO_INDIGENA</th>\n",
       "    </tr>\n",
       "  </thead>\n",
       "  <tbody>\n",
       "    <tr>\n",
       "      <th>188356</th>\n",
       "      <td>2020</td>\n",
       "      <td>C56EA63CD1C53FEEB5B986F1EBF71DDA</td>\n",
       "      <td>1</td>\n",
       "      <td>1979</td>\n",
       "      <td>41</td>\n",
       "      <td>41</td>\n",
       "      <td>2</td>\n",
       "      <td>1</td>\n",
       "      <td>1</td>\n",
       "      <td>76</td>\n",
       "      <td>...</td>\n",
       "      <td>1.0</td>\n",
       "      <td>0.0</td>\n",
       "      <td>0.0</td>\n",
       "      <td>0.0</td>\n",
       "      <td>0.0</td>\n",
       "      <td>0.0</td>\n",
       "      <td>0.0</td>\n",
       "      <td>1</td>\n",
       "      <td>0</td>\n",
       "      <td>0</td>\n",
       "    </tr>\n",
       "    <tr>\n",
       "      <th>188357</th>\n",
       "      <td>2020</td>\n",
       "      <td>48F3D91B9A349C8770FAF0A2C4042DD0</td>\n",
       "      <td>6</td>\n",
       "      <td>1981</td>\n",
       "      <td>38</td>\n",
       "      <td>39</td>\n",
       "      <td>1</td>\n",
       "      <td>0</td>\n",
       "      <td>1</td>\n",
       "      <td>76</td>\n",
       "      <td>...</td>\n",
       "      <td>1.0</td>\n",
       "      <td>0.0</td>\n",
       "      <td>0.0</td>\n",
       "      <td>0.0</td>\n",
       "      <td>0.0</td>\n",
       "      <td>0.0</td>\n",
       "      <td>0.0</td>\n",
       "      <td>1</td>\n",
       "      <td>0</td>\n",
       "      <td>0</td>\n",
       "    </tr>\n",
       "    <tr>\n",
       "      <th>188358</th>\n",
       "      <td>2020</td>\n",
       "      <td>19AE62541E495EC2E5B049CFC0347B3A</td>\n",
       "      <td>2</td>\n",
       "      <td>1959</td>\n",
       "      <td>61</td>\n",
       "      <td>61</td>\n",
       "      <td>2</td>\n",
       "      <td>1</td>\n",
       "      <td>1</td>\n",
       "      <td>76</td>\n",
       "      <td>...</td>\n",
       "      <td>1.0</td>\n",
       "      <td>0.0</td>\n",
       "      <td>0.0</td>\n",
       "      <td>0.0</td>\n",
       "      <td>0.0</td>\n",
       "      <td>0.0</td>\n",
       "      <td>0.0</td>\n",
       "      <td>1</td>\n",
       "      <td>0</td>\n",
       "      <td>0</td>\n",
       "    </tr>\n",
       "    <tr>\n",
       "      <th>188359</th>\n",
       "      <td>2020</td>\n",
       "      <td>1A9A32E31AC49FC739A41AF1C2B74943</td>\n",
       "      <td>7</td>\n",
       "      <td>1975</td>\n",
       "      <td>44</td>\n",
       "      <td>45</td>\n",
       "      <td>1</td>\n",
       "      <td>0</td>\n",
       "      <td>1</td>\n",
       "      <td>76</td>\n",
       "      <td>...</td>\n",
       "      <td>1.0</td>\n",
       "      <td>0.0</td>\n",
       "      <td>0.0</td>\n",
       "      <td>0.0</td>\n",
       "      <td>0.0</td>\n",
       "      <td>0.0</td>\n",
       "      <td>0.0</td>\n",
       "      <td>1</td>\n",
       "      <td>0</td>\n",
       "      <td>0</td>\n",
       "    </tr>\n",
       "    <tr>\n",
       "      <th>188360</th>\n",
       "      <td>2020</td>\n",
       "      <td>9803FFD807940C340616AD4B095ADBEF</td>\n",
       "      <td>5</td>\n",
       "      <td>1967</td>\n",
       "      <td>53</td>\n",
       "      <td>53</td>\n",
       "      <td>2</td>\n",
       "      <td>3</td>\n",
       "      <td>1</td>\n",
       "      <td>76</td>\n",
       "      <td>...</td>\n",
       "      <td>1.0</td>\n",
       "      <td>0.0</td>\n",
       "      <td>0.0</td>\n",
       "      <td>0.0</td>\n",
       "      <td>0.0</td>\n",
       "      <td>0.0</td>\n",
       "      <td>0.0</td>\n",
       "      <td>1</td>\n",
       "      <td>0</td>\n",
       "      <td>0</td>\n",
       "    </tr>\n",
       "  </tbody>\n",
       "</table>\n",
       "<p>5 rows × 83 columns</p>\n",
       "</div>"
      ],
      "text/plain": [
       "        NU_ANO_CENSO                         ID_GESTOR  NU_MES  NU_ANO  \\\n",
       "188356          2020  C56EA63CD1C53FEEB5B986F1EBF71DDA       1    1979   \n",
       "188357          2020  48F3D91B9A349C8770FAF0A2C4042DD0       6    1981   \n",
       "188358          2020  19AE62541E495EC2E5B049CFC0347B3A       2    1959   \n",
       "188359          2020  1A9A32E31AC49FC739A41AF1C2B74943       7    1975   \n",
       "188360          2020  9803FFD807940C340616AD4B095ADBEF       5    1967   \n",
       "\n",
       "        NU_IDADE_REFERENCIA  NU_IDADE  TP_SEXO  TP_COR_RACA  TP_NACIONALIDADE  \\\n",
       "188356                   41        41        2            1                 1   \n",
       "188357                   38        39        1            0                 1   \n",
       "188358                   61        61        2            1                 1   \n",
       "188359                   44        45        1            0                 1   \n",
       "188360                   53        53        2            3                 1   \n",
       "\n",
       "        CO_PAIS_ORIGEM  ...  IN_MANT_ESCOLA_PRIVADA_EMP  \\\n",
       "188356              76  ...                         1.0   \n",
       "188357              76  ...                         1.0   \n",
       "188358              76  ...                         1.0   \n",
       "188359              76  ...                         1.0   \n",
       "188360              76  ...                         1.0   \n",
       "\n",
       "        IN_MANT_ESCOLA_PRIVADA_ONG  IN_MANT_ESCOLA_PRIV_ONG_OSCIP  \\\n",
       "188356                         0.0                            0.0   \n",
       "188357                         0.0                            0.0   \n",
       "188358                         0.0                            0.0   \n",
       "188359                         0.0                            0.0   \n",
       "188360                         0.0                            0.0   \n",
       "\n",
       "        IN_MANT_ESCOLA_PRIVADA_OSCIP  IN_MANT_ESCOLA_PRIVADA_SIND  \\\n",
       "188356                           0.0                          0.0   \n",
       "188357                           0.0                          0.0   \n",
       "188358                           0.0                          0.0   \n",
       "188359                           0.0                          0.0   \n",
       "188360                           0.0                          0.0   \n",
       "\n",
       "        IN_MANT_ESCOLA_PRIVADA_SIST_S  IN_MANT_ESCOLA_PRIVADA_S_FINS  \\\n",
       "188356                            0.0                            0.0   \n",
       "188357                            0.0                            0.0   \n",
       "188358                            0.0                            0.0   \n",
       "188359                            0.0                            0.0   \n",
       "188360                            0.0                            0.0   \n",
       "\n",
       "        TP_REGULAMENTACAO  TP_LOCALIZACAO_DIFERENCIADA  IN_EDUCACAO_INDIGENA  \n",
       "188356                  1                            0                     0  \n",
       "188357                  1                            0                     0  \n",
       "188358                  1                            0                     0  \n",
       "188359                  1                            0                     0  \n",
       "188360                  1                            0                     0  \n",
       "\n",
       "[5 rows x 83 columns]"
      ]
     },
     "execution_count": 20,
     "metadata": {},
     "output_type": "execute_result"
    }
   ],
   "source": [
    "dados[\"2020.zip\"].tail()"
   ]
  },
  {
   "cell_type": "code",
   "execution_count": 21,
   "metadata": {
    "ExecuteTime": {
     "end_time": "2021-10-16T16:10:21.320898Z",
     "start_time": "2021-10-16T16:10:21.200218Z"
    }
   },
   "outputs": [
    {
     "data": {
      "text/html": [
       "<div>\n",
       "<style scoped>\n",
       "    .dataframe tbody tr th:only-of-type {\n",
       "        vertical-align: middle;\n",
       "    }\n",
       "\n",
       "    .dataframe tbody tr th {\n",
       "        vertical-align: top;\n",
       "    }\n",
       "\n",
       "    .dataframe thead th {\n",
       "        text-align: right;\n",
       "    }\n",
       "</style>\n",
       "<table border=\"1\" class=\"dataframe\">\n",
       "  <thead>\n",
       "    <tr style=\"text-align: right;\">\n",
       "      <th></th>\n",
       "      <th>NU_ANO_CENSO</th>\n",
       "      <th>ID_GESTOR</th>\n",
       "      <th>NU_MES</th>\n",
       "      <th>NU_ANO</th>\n",
       "      <th>NU_IDADE_REFERENCIA</th>\n",
       "      <th>NU_IDADE</th>\n",
       "      <th>TP_SEXO</th>\n",
       "      <th>TP_COR_RACA</th>\n",
       "      <th>TP_NACIONALIDADE</th>\n",
       "      <th>CO_PAIS_ORIGEM</th>\n",
       "      <th>...</th>\n",
       "      <th>IN_MANT_ESCOLA_PRIVADA_EMP</th>\n",
       "      <th>IN_MANT_ESCOLA_PRIVADA_ONG</th>\n",
       "      <th>IN_MANT_ESCOLA_PRIV_ONG_OSCIP</th>\n",
       "      <th>IN_MANT_ESCOLA_PRIVADA_OSCIP</th>\n",
       "      <th>IN_MANT_ESCOLA_PRIVADA_SIND</th>\n",
       "      <th>IN_MANT_ESCOLA_PRIVADA_SIST_S</th>\n",
       "      <th>IN_MANT_ESCOLA_PRIVADA_S_FINS</th>\n",
       "      <th>TP_REGULAMENTACAO</th>\n",
       "      <th>TP_LOCALIZACAO_DIFERENCIADA</th>\n",
       "      <th>IN_EDUCACAO_INDIGENA</th>\n",
       "    </tr>\n",
       "  </thead>\n",
       "  <tbody>\n",
       "    <tr>\n",
       "      <th>23002</th>\n",
       "      <td>2020</td>\n",
       "      <td>C3ABC5F16A61C170C596F05CAE96BDB3</td>\n",
       "      <td>5</td>\n",
       "      <td>1975</td>\n",
       "      <td>45</td>\n",
       "      <td>45</td>\n",
       "      <td>2</td>\n",
       "      <td>1</td>\n",
       "      <td>1</td>\n",
       "      <td>76</td>\n",
       "      <td>...</td>\n",
       "      <td>NaN</td>\n",
       "      <td>NaN</td>\n",
       "      <td>NaN</td>\n",
       "      <td>NaN</td>\n",
       "      <td>NaN</td>\n",
       "      <td>NaN</td>\n",
       "      <td>NaN</td>\n",
       "      <td>1</td>\n",
       "      <td>0</td>\n",
       "      <td>0</td>\n",
       "    </tr>\n",
       "    <tr>\n",
       "      <th>114966</th>\n",
       "      <td>2020</td>\n",
       "      <td>40F7FA44F6DC257BFADB077018101D77</td>\n",
       "      <td>7</td>\n",
       "      <td>1976</td>\n",
       "      <td>43</td>\n",
       "      <td>44</td>\n",
       "      <td>2</td>\n",
       "      <td>1</td>\n",
       "      <td>1</td>\n",
       "      <td>76</td>\n",
       "      <td>...</td>\n",
       "      <td>1.0</td>\n",
       "      <td>0.0</td>\n",
       "      <td>0.0</td>\n",
       "      <td>0.0</td>\n",
       "      <td>0.0</td>\n",
       "      <td>0.0</td>\n",
       "      <td>0.0</td>\n",
       "      <td>1</td>\n",
       "      <td>0</td>\n",
       "      <td>0</td>\n",
       "    </tr>\n",
       "    <tr>\n",
       "      <th>38834</th>\n",
       "      <td>2020</td>\n",
       "      <td>D29C8E6E211FD78B2A8950995C0E85CA</td>\n",
       "      <td>2</td>\n",
       "      <td>1985</td>\n",
       "      <td>35</td>\n",
       "      <td>35</td>\n",
       "      <td>1</td>\n",
       "      <td>3</td>\n",
       "      <td>1</td>\n",
       "      <td>76</td>\n",
       "      <td>...</td>\n",
       "      <td>1.0</td>\n",
       "      <td>0.0</td>\n",
       "      <td>0.0</td>\n",
       "      <td>0.0</td>\n",
       "      <td>0.0</td>\n",
       "      <td>0.0</td>\n",
       "      <td>0.0</td>\n",
       "      <td>2</td>\n",
       "      <td>0</td>\n",
       "      <td>0</td>\n",
       "    </tr>\n",
       "    <tr>\n",
       "      <th>172431</th>\n",
       "      <td>2020</td>\n",
       "      <td>B2EB080119C15903A41F95029CDCAA09</td>\n",
       "      <td>7</td>\n",
       "      <td>1964</td>\n",
       "      <td>55</td>\n",
       "      <td>56</td>\n",
       "      <td>2</td>\n",
       "      <td>0</td>\n",
       "      <td>1</td>\n",
       "      <td>76</td>\n",
       "      <td>...</td>\n",
       "      <td>0.0</td>\n",
       "      <td>0.0</td>\n",
       "      <td>0.0</td>\n",
       "      <td>0.0</td>\n",
       "      <td>0.0</td>\n",
       "      <td>0.0</td>\n",
       "      <td>1.0</td>\n",
       "      <td>1</td>\n",
       "      <td>0</td>\n",
       "      <td>0</td>\n",
       "    </tr>\n",
       "    <tr>\n",
       "      <th>175591</th>\n",
       "      <td>2020</td>\n",
       "      <td>D5EEF10D35C995A3245F016B84429B7E</td>\n",
       "      <td>9</td>\n",
       "      <td>1972</td>\n",
       "      <td>47</td>\n",
       "      <td>48</td>\n",
       "      <td>2</td>\n",
       "      <td>1</td>\n",
       "      <td>1</td>\n",
       "      <td>76</td>\n",
       "      <td>...</td>\n",
       "      <td>NaN</td>\n",
       "      <td>NaN</td>\n",
       "      <td>NaN</td>\n",
       "      <td>NaN</td>\n",
       "      <td>NaN</td>\n",
       "      <td>NaN</td>\n",
       "      <td>NaN</td>\n",
       "      <td>1</td>\n",
       "      <td>0</td>\n",
       "      <td>0</td>\n",
       "    </tr>\n",
       "  </tbody>\n",
       "</table>\n",
       "<p>5 rows × 83 columns</p>\n",
       "</div>"
      ],
      "text/plain": [
       "        NU_ANO_CENSO                         ID_GESTOR  NU_MES  NU_ANO  \\\n",
       "23002           2020  C3ABC5F16A61C170C596F05CAE96BDB3       5    1975   \n",
       "114966          2020  40F7FA44F6DC257BFADB077018101D77       7    1976   \n",
       "38834           2020  D29C8E6E211FD78B2A8950995C0E85CA       2    1985   \n",
       "172431          2020  B2EB080119C15903A41F95029CDCAA09       7    1964   \n",
       "175591          2020  D5EEF10D35C995A3245F016B84429B7E       9    1972   \n",
       "\n",
       "        NU_IDADE_REFERENCIA  NU_IDADE  TP_SEXO  TP_COR_RACA  TP_NACIONALIDADE  \\\n",
       "23002                    45        45        2            1                 1   \n",
       "114966                   43        44        2            1                 1   \n",
       "38834                    35        35        1            3                 1   \n",
       "172431                   55        56        2            0                 1   \n",
       "175591                   47        48        2            1                 1   \n",
       "\n",
       "        CO_PAIS_ORIGEM  ...  IN_MANT_ESCOLA_PRIVADA_EMP  \\\n",
       "23002               76  ...                         NaN   \n",
       "114966              76  ...                         1.0   \n",
       "38834               76  ...                         1.0   \n",
       "172431              76  ...                         0.0   \n",
       "175591              76  ...                         NaN   \n",
       "\n",
       "        IN_MANT_ESCOLA_PRIVADA_ONG  IN_MANT_ESCOLA_PRIV_ONG_OSCIP  \\\n",
       "23002                          NaN                            NaN   \n",
       "114966                         0.0                            0.0   \n",
       "38834                          0.0                            0.0   \n",
       "172431                         0.0                            0.0   \n",
       "175591                         NaN                            NaN   \n",
       "\n",
       "        IN_MANT_ESCOLA_PRIVADA_OSCIP  IN_MANT_ESCOLA_PRIVADA_SIND  \\\n",
       "23002                            NaN                          NaN   \n",
       "114966                           0.0                          0.0   \n",
       "38834                            0.0                          0.0   \n",
       "172431                           0.0                          0.0   \n",
       "175591                           NaN                          NaN   \n",
       "\n",
       "        IN_MANT_ESCOLA_PRIVADA_SIST_S  IN_MANT_ESCOLA_PRIVADA_S_FINS  \\\n",
       "23002                             NaN                            NaN   \n",
       "114966                            0.0                            0.0   \n",
       "38834                             0.0                            0.0   \n",
       "172431                            0.0                            1.0   \n",
       "175591                            NaN                            NaN   \n",
       "\n",
       "        TP_REGULAMENTACAO  TP_LOCALIZACAO_DIFERENCIADA  IN_EDUCACAO_INDIGENA  \n",
       "23002                   1                            0                     0  \n",
       "114966                  1                            0                     0  \n",
       "38834                   2                            0                     0  \n",
       "172431                  1                            0                     0  \n",
       "175591                  1                            0                     0  \n",
       "\n",
       "[5 rows x 83 columns]"
      ]
     },
     "execution_count": 21,
     "metadata": {},
     "output_type": "execute_result"
    }
   ],
   "source": [
    "dados[\"2020.zip\"].sample(5)"
   ]
  },
  {
   "cell_type": "markdown",
   "metadata": {},
   "source": [
    "Verifica informações básicas de tamanho"
   ]
  },
  {
   "cell_type": "code",
   "execution_count": 22,
   "metadata": {
    "ExecuteTime": {
     "end_time": "2021-10-16T16:10:23.816202Z",
     "start_time": "2021-10-16T16:10:23.711483Z"
    }
   },
   "outputs": [
    {
     "data": {
      "text/plain": [
       "(188361, 83)"
      ]
     },
     "execution_count": 22,
     "metadata": {},
     "output_type": "execute_result"
    }
   ],
   "source": [
    "dados[\"2020.zip\"].shape"
   ]
  },
  {
   "cell_type": "markdown",
   "metadata": {},
   "source": [
    "Tipagem"
   ]
  },
  {
   "cell_type": "code",
   "execution_count": null,
   "metadata": {},
   "outputs": [],
   "source": [
    "ID_GESTOR\n",
    "ANO\n",
    "DT_NASCIMENTO\n",
    "NU_IDADE\n",
    "TP_SEXO"
   ]
  },
  {
   "cell_type": "code",
   "execution_count": 33,
   "metadata": {
    "ExecuteTime": {
     "end_time": "2021-10-16T17:00:59.851356Z",
     "start_time": "2021-10-16T17:00:59.743645Z"
    }
   },
   "outputs": [
    {
     "data": {
      "text/plain": [
       "1.0"
      ]
     },
     "execution_count": 33,
     "metadata": {},
     "output_type": "execute_result"
    }
   ],
   "source": [
    "dados[\"2020.zip\"][\"CO_IES_1\"].min()"
   ]
  },
  {
   "cell_type": "code",
   "execution_count": 31,
   "metadata": {
    "ExecuteTime": {
     "end_time": "2021-10-16T16:55:45.262375Z",
     "start_time": "2021-10-16T16:55:45.150256Z"
    }
   },
   "outputs": [
    {
     "data": {
      "text/plain": [
       "array([ 0., nan,  1.])"
      ]
     },
     "execution_count": 31,
     "metadata": {},
     "output_type": "execute_result"
    }
   ],
   "source": [
    "dados[\"2020.zip\"][\"CO_AREA_CURSO_1\"].unique()"
   ]
  },
  {
   "cell_type": "code",
   "execution_count": 23,
   "metadata": {
    "ExecuteTime": {
     "end_time": "2021-10-16T16:10:25.957020Z",
     "start_time": "2021-10-16T16:10:25.807395Z"
    }
   },
   "outputs": [
    {
     "name": "stdout",
     "output_type": "stream",
     "text": [
      "<class 'pandas.core.frame.DataFrame'>\n",
      "RangeIndex: 188361 entries, 0 to 188360\n",
      "Data columns (total 83 columns):\n",
      " #   Column                         Non-Null Count   Dtype  \n",
      "---  ------                         --------------   -----  \n",
      " 0   NU_ANO_CENSO                   188361 non-null  int64  \n",
      " 1   ID_GESTOR                      188361 non-null  object \n",
      " 2   NU_MES                         188361 non-null  int64  \n",
      " 3   NU_ANO                         188361 non-null  int64  \n",
      " 4   NU_IDADE_REFERENCIA            188361 non-null  int64  \n",
      " 5   NU_IDADE                       188361 non-null  int64  \n",
      " 6   TP_SEXO                        188361 non-null  int64  \n",
      " 7   TP_COR_RACA                    188361 non-null  int64  \n",
      " 8   TP_NACIONALIDADE               188361 non-null  int64  \n",
      " 9   CO_PAIS_ORIGEM                 188361 non-null  int64  \n",
      " 10  CO_UF_NASC                     188106 non-null  float64\n",
      " 11  CO_MUNICIPIO_NASC              188106 non-null  float64\n",
      " 12  IN_NECESSIDADE_ESPECIAL        188361 non-null  int64  \n",
      " 13  IN_BAIXA_VISAO                 734 non-null     float64\n",
      " 14  IN_CEGUEIRA                    734 non-null     float64\n",
      " 15  IN_DEF_AUDITIVA                734 non-null     float64\n",
      " 16  IN_DEF_FISICA                  734 non-null     float64\n",
      " 17  IN_DEF_INTELECTUAL             734 non-null     float64\n",
      " 18  IN_SURDEZ                      734 non-null     float64\n",
      " 19  IN_SURDOCEGUEIRA               734 non-null     float64\n",
      " 20  IN_DEF_MULTIPLA                734 non-null     float64\n",
      " 21  IN_AUTISMO                     734 non-null     float64\n",
      " 22  IN_SUPERDOTACAO                734 non-null     float64\n",
      " 23  TP_ESCOLARIDADE                188361 non-null  int64  \n",
      " 24  TP_ENSINO_MEDIO                104827 non-null  float64\n",
      " 25  CO_AREA_CURSO_1                162656 non-null  float64\n",
      " 26  CO_CURSO_1                     162656 non-null  object \n",
      " 27  IN_LICENCIATURA_1              188361 non-null  int64  \n",
      " 28  NU_ANO_CONCLUSAO_1             162656 non-null  float64\n",
      " 29  TP_TIPO_IES_1                  159603 non-null  float64\n",
      " 30  CO_IES_1                       162656 non-null  float64\n",
      " 31  CO_AREA_CURSO_2                14319 non-null   float64\n",
      " 32  CO_CURSO_2                     14319 non-null   object \n",
      " 33  IN_LICENCIATURA_2              188361 non-null  int64  \n",
      " 34  NU_ANO_CONCLUSAO_2             14319 non-null   float64\n",
      " 35  TP_TIPO_IES_2                  13632 non-null   float64\n",
      " 36  CO_IES_2                       14319 non-null   float64\n",
      " 37  IN_ESPECIALIZACAO              162656 non-null  float64\n",
      " 38  IN_MESTRADO                    162656 non-null  float64\n",
      " 39  IN_DOUTORADO                   162656 non-null  float64\n",
      " 40  IN_POS_NENHUM                  162656 non-null  float64\n",
      " 41  IN_ESPECIFICO_CRECHE           188361 non-null  int64  \n",
      " 42  IN_ESPECIFICO_PRE_ESCOLA       188361 non-null  int64  \n",
      " 43  IN_ESPECIFICO_ANOS_INICIAIS    188361 non-null  int64  \n",
      " 44  IN_ESPECIFICO_ANOS_FINAIS      188361 non-null  int64  \n",
      " 45  IN_ESPECIFICO_ENS_MEDIO        188361 non-null  int64  \n",
      " 46  IN_ESPECIFICO_EJA              188361 non-null  int64  \n",
      " 47  IN_ESPECIFICO_ED_ESPECIAL      188361 non-null  int64  \n",
      " 48  IN_ESPECIFICO_ED_INDIGENA      188361 non-null  int64  \n",
      " 49  IN_ESPECIFICO_CAMPO            188361 non-null  int64  \n",
      " 50  IN_ESPECIFICO_AMBIENTAL        188361 non-null  int64  \n",
      " 51  IN_ESPECIFICO_DIR_HUMANOS      188361 non-null  int64  \n",
      " 52  IN_ESPECIFICO_DIV_SEXUAL       188361 non-null  int64  \n",
      " 53  IN_ESPECIFICO_DIR_ADOLESC      188361 non-null  int64  \n",
      " 54  IN_ESPECIFICO_AFRO             188361 non-null  int64  \n",
      " 55  IN_ESPECIFICO_GESTAO           188361 non-null  int64  \n",
      " 56  IN_ESPECIFICO_OUTROS           188361 non-null  int64  \n",
      " 57  IN_ESPECIFICO_NENHUM           188361 non-null  int64  \n",
      " 58  TP_CARGO_GESTOR                188361 non-null  int64  \n",
      " 59  TP_TIPO_ACESSO_CARGO           161183 non-null  float64\n",
      " 60  TP_TIPO_CONTRATACAO            123529 non-null  float64\n",
      " 61  CO_ENTIDADE                    188361 non-null  int64  \n",
      " 62  CO_REGIAO                      188361 non-null  int64  \n",
      " 63  CO_MESORREGIAO                 188361 non-null  int64  \n",
      " 64  CO_MICRORREGIAO                188361 non-null  int64  \n",
      " 65  CO_UF                          188361 non-null  int64  \n",
      " 66  CO_MUNICIPIO                   188361 non-null  int64  \n",
      " 67  CO_DISTRITO                    188361 non-null  int64  \n",
      " 68  TP_DEPENDENCIA                 188361 non-null  int64  \n",
      " 69  TP_LOCALIZACAO                 188361 non-null  int64  \n",
      " 70  TP_CATEGORIA_ESCOLA_PRIVADA    43010 non-null   float64\n",
      " 71  IN_CONVENIADA_PP               43010 non-null   float64\n",
      " 72  TP_CONVENIO_PODER_PUBLICO      8391 non-null    float64\n",
      " 73  IN_MANT_ESCOLA_PRIVADA_EMP     43010 non-null   float64\n",
      " 74  IN_MANT_ESCOLA_PRIVADA_ONG     43010 non-null   float64\n",
      " 75  IN_MANT_ESCOLA_PRIV_ONG_OSCIP  43010 non-null   float64\n",
      " 76  IN_MANT_ESCOLA_PRIVADA_OSCIP   43010 non-null   float64\n",
      " 77  IN_MANT_ESCOLA_PRIVADA_SIND    43010 non-null   float64\n",
      " 78  IN_MANT_ESCOLA_PRIVADA_SIST_S  43010 non-null   float64\n",
      " 79  IN_MANT_ESCOLA_PRIVADA_S_FINS  43010 non-null   float64\n",
      " 80  TP_REGULAMENTACAO              188361 non-null  int64  \n",
      " 81  TP_LOCALIZACAO_DIFERENCIADA    188361 non-null  int64  \n",
      " 82  IN_EDUCACAO_INDIGENA           188361 non-null  int64  \n",
      "dtypes: float64(37), int64(43), object(3)\n",
      "memory usage: 119.3+ MB\n"
     ]
    }
   ],
   "source": [
    "dados[\"2020.zip\"].info()"
   ]
  },
  {
   "cell_type": "code",
   "execution_count": 48,
   "metadata": {
    "ExecuteTime": {
     "end_time": "2021-10-16T17:39:49.910173Z",
     "start_time": "2021-10-16T17:39:49.599006Z"
    }
   },
   "outputs": [
    {
     "data": {
      "text/plain": [
       "ID_GESTOR                      376101\n",
       "CO_ENTIDADE                    376101\n",
       "CO_PAIS_ORIGEM                 376101\n",
       "CO_IES_1                       376101\n",
       "CO_CURSO_1                     321089\n",
       "CO_IES_2                       376101\n",
       "CO_CURSO_2                      29084\n",
       "CO_MUNICIPIO_NASC              376101\n",
       "DT_NASCIMENTO                  376101\n",
       "NU_IDADE                       376101\n",
       "IN_NECESSIDADE_ESPECIAL        376101\n",
       "IN_BAIXA_VISAO                 376101\n",
       "IN_CEGUEIRA                    376101\n",
       "IN_DEF_AUDITIVA                376101\n",
       "IN_DEF_FISICA                  376101\n",
       "IN_DEF_INTELECTUAL             376101\n",
       "IN_SURDEZ                      376101\n",
       "IN_SURDOCEGUEIRA               376101\n",
       "IN_DEF_MULTIPLA                376101\n",
       "IN_AUTISMO                     376101\n",
       "IN_SUPERDOTACAO                376101\n",
       "IN_ESPECIALIZACAO              376101\n",
       "IN_MESTRADO                    376101\n",
       "IN_DOUTORADO                   376101\n",
       "IN_POS_NENHUM                  376101\n",
       "IN_ESPECIFICO_CRECHE           376101\n",
       "IN_ESPECIFICO_PRE_ESCOLA       376101\n",
       "IN_ESPECIFICO_ANOS_INICIAIS    376101\n",
       "IN_ESPECIFICO_ANOS_FINAIS      376101\n",
       "IN_ESPECIFICO_ENS_MEDIO        376101\n",
       "IN_ESPECIFICO_EJA              376101\n",
       "IN_ESPECIFICO_ED_ESPECIAL      376101\n",
       "IN_ESPECIFICO_ED_INDIGENA      376101\n",
       "IN_ESPECIFICO_CAMPO            376101\n",
       "IN_ESPECIFICO_AMBIENTAL        376101\n",
       "IN_ESPECIFICO_DIR_HUMANOS      376101\n",
       "IN_ESPECIFICO_DIV_SEXUAL       376101\n",
       "IN_ESPECIFICO_DIR_ADOLESC      376101\n",
       "IN_ESPECIFICO_AFRO             376101\n",
       "IN_ESPECIFICO_GESTAO           376101\n",
       "IN_ESPECIFICO_OUTROS           376101\n",
       "IN_ESPECIFICO_NENHUM           376101\n",
       "TP_SEXO                        376101\n",
       "TP_COR_RACA                    376101\n",
       "TP_NACIONALIDADE               376101\n",
       "TP_ESCOLARIDADE                376101\n",
       "TP_ENSINO_MEDIO                376101\n",
       "TP_CARGO_GESTOR                376101\n",
       "TP_TIPO_ACESSO_CARGO           376101\n",
       "TP_TIPO_CONTRATACAO            376101\n",
       "ANO                            376101\n",
       "dtype: int64"
      ]
     },
     "execution_count": 48,
     "metadata": {},
     "output_type": "execute_result"
    }
   ],
   "source": [
    "pd.read_parquet(\"dados/completo/aquisicao/censo_gestor.parquet\").count()"
   ]
  },
  {
   "cell_type": "markdown",
   "metadata": {},
   "source": [
    "---"
   ]
  }
 ],
 "metadata": {
  "kernelspec": {
   "display_name": "Python 3",
   "language": "python",
   "name": "python3"
  },
  "language_info": {
   "codemirror_mode": {
    "name": "ipython",
    "version": 3
   },
   "file_extension": ".py",
   "mimetype": "text/x-python",
   "name": "python",
   "nbconvert_exporter": "python",
   "pygments_lexer": "ipython3",
   "version": "3.8.11"
  },
  "toc": {
   "base_numbering": 1,
   "nav_menu": {},
   "number_sections": true,
   "sideBar": true,
   "skip_h1_title": true,
   "title_cell": "Table of Contents",
   "title_sidebar": "Contents",
   "toc_cell": false,
   "toc_position": {
    "height": "calc(100% - 180px)",
    "left": "10px",
    "top": "150px",
    "width": "258.475px"
   },
   "toc_section_display": true,
   "toc_window_display": true
  },
  "varInspector": {
   "cols": {
    "lenName": 16,
    "lenType": 16,
    "lenVar": 40
   },
   "kernels_config": {
    "python": {
     "delete_cmd_postfix": "",
     "delete_cmd_prefix": "del ",
     "library": "var_list.py",
     "varRefreshCmd": "print(var_dic_list())"
    },
    "r": {
     "delete_cmd_postfix": ") ",
     "delete_cmd_prefix": "rm(",
     "library": "var_list.r",
     "varRefreshCmd": "cat(var_dic_list()) "
    }
   },
   "types_to_exclude": [
    "module",
    "function",
    "builtin_function_or_method",
    "instance",
    "_Feature"
   ],
   "window_display": false
  }
 },
 "nbformat": 4,
 "nbformat_minor": 4
}
