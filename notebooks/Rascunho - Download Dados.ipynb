{
 "cells": [
  {
   "cell_type": "code",
   "execution_count": 3,
   "metadata": {},
   "outputs": [],
   "source": [
    "import urllib\n",
    "import requests\n",
    "import os\n",
    "from pathlib import Path\n",
    "from bs4 import BeautifulSoup"
   ]
  },
  {
   "cell_type": "code",
   "execution_count": 2,
   "metadata": {},
   "outputs": [],
   "source": [
    "def obtem_dados_censo(\n",
    "    url: str = \"https://www.gov.br/inep/pt-br/acesso-a-informacao/dados-abertos/microdados/censo-escolar\",\n",
    ") -> Path:\n",
    "    \"\"\"\n",
    "    Realiza o download dos dados do censo escolar\n",
    "    \n",
    "    :param url: endereço do site do INEP com dados do censo\n",
    "    :return: caminho para os dados de saída\n",
    "    \"\"\"\n",
    "    html = urllib.request.urlopen(url).read()\n",
    "    soup = BeautifulSoup(html, features=\"html.parser\")\n",
    "    \n",
    "    links = {tag[\"href\"].split(\"_\")[-1]: tag[\"href\"] for tag in soup.find_all(\"a\", {\"class\": \"external-link\"})}\n",
    "    \n",
    "    caminho_saida = Path(\"../dados/censo_escolar\")\n",
    "    caminho_saida.mkdir(parents=True, exist_ok=True)\n",
    "    \n",
    "    for dado in links:\n",
    "        r = requests.get(links[dado], stream=True)\n",
    "        with open(caminho_saida / dado, \"wb\") as arq:\n",
    "            arq.write(r.content)"
   ]
  },
  {
   "cell_type": "code",
   "execution_count": 3,
   "metadata": {},
   "outputs": [],
   "source": [
    "html = urllib.request.urlopen(\"https://www.gov.br/inep/pt-br/acesso-a-informacao/dados-abertos/microdados/censo-escolar\").read()"
   ]
  },
  {
   "cell_type": "code",
   "execution_count": 8,
   "metadata": {},
   "outputs": [],
   "source": [
    "soup = BeautifulSoup(html, features=\"html.parser\")"
   ]
  },
  {
   "cell_type": "code",
   "execution_count": 20,
   "metadata": {},
   "outputs": [],
   "source": [
    "links = {tag[\"href\"].split(\"_\")[-1]: tag[\"href\"] for tag in soup.find_all(\"a\", {\"class\": \"external-link\"})}"
   ]
  },
  {
   "cell_type": "code",
   "execution_count": 27,
   "metadata": {},
   "outputs": [],
   "source": [
    "caminho_saida = Path(\"../dados/censo_escolar\")\n",
    "caminho_saida.mkdir(parents=True, exist_ok=True)"
   ]
  },
  {
   "cell_type": "code",
   "execution_count": 33,
   "metadata": {},
   "outputs": [],
   "source": [
    "r = requests.get(links[\"1995.zip\"], stream=True)\n",
    "with open(caminho_saida / \"1995.zip\", \"wb\") as arq:\n",
    "    arq.write(r.content)"
   ]
  },
  {
   "cell_type": "code",
   "execution_count": 4,
   "metadata": {},
   "outputs": [],
   "source": [
    "os.chdir(\"..\")"
   ]
  },
  {
   "cell_type": "code",
   "execution_count": 7,
   "metadata": {},
   "outputs": [],
   "source": [
    "%load_ext autoreload\n",
    "%autoreload 2\n",
    "\n",
    "import src.aquisicao.inep.base_inep as etl_base_inep"
   ]
  },
  {
   "cell_type": "code",
   "execution_count": 15,
   "metadata": {},
   "outputs": [],
   "source": [
    "inep_etl = etl_base_inep.BaseINEPETL(\"dados/censo_escolar\", \"saida/aquisicao\", \"censo-escolar\")"
   ]
  },
  {
   "cell_type": "code",
   "execution_count": null,
   "metadata": {},
   "outputs": [],
   "source": []
  }
 ],
 "metadata": {
  "kernelspec": {
   "display_name": "Python 3",
   "language": "python",
   "name": "python3"
  },
  "language_info": {
   "codemirror_mode": {
    "name": "ipython",
    "version": 3
   },
   "file_extension": ".py",
   "mimetype": "text/x-python",
   "name": "python",
   "nbconvert_exporter": "python",
   "pygments_lexer": "ipython3",
   "version": "3.8.11"
  }
 },
 "nbformat": 4,
 "nbformat_minor": 4
}
