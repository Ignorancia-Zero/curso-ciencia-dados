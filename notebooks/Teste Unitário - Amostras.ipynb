{
 "cells": [
  {
   "cell_type": "markdown",
   "metadata": {},
   "source": [
    "# Teste Unitário - Amostras"
   ]
  },
  {
   "cell_type": "markdown",
   "metadata": {},
   "source": [
    "**Objetivo**: Gerar as amostras de dados de escolas, alunas, professores e turmas"
   ]
  },
  {
   "cell_type": "markdown",
   "metadata": {},
   "source": [
    "---"
   ]
  },
  {
   "cell_type": "markdown",
   "metadata": {},
   "source": [
    "## Cabeçalho "
   ]
  },
  {
   "cell_type": "markdown",
   "metadata": {},
   "source": [
    "### Imports "
   ]
  },
  {
   "cell_type": "code",
   "execution_count": null,
   "metadata": {
    "ExecuteTime": {
     "end_time": "2021-09-22T01:20:10.019636Z",
     "start_time": "2021-09-22T01:20:08.989906Z"
    }
   },
   "outputs": [],
   "source": [
    "import gc\n",
    "import os\n",
    "import pyunpack\n",
    "import rarfile\n",
    "import shutil\n",
    "import zipfile\n",
    "import numpy as np\n",
    "import pandas as pd\n",
    "\n",
    "from pathlib import Path\n",
    "from tqdm import tqdm"
   ]
  },
  {
   "cell_type": "markdown",
   "metadata": {},
   "source": [
    "### Configurações "
   ]
  },
  {
   "cell_type": "code",
   "execution_count": null,
   "metadata": {
    "ExecuteTime": {
     "end_time": "2021-09-22T01:20:10.192518Z",
     "start_time": "2021-09-22T01:20:10.177528Z"
    }
   },
   "outputs": [],
   "source": [
    "%config Completer.use_jedi = False"
   ]
  },
  {
   "cell_type": "markdown",
   "metadata": {},
   "source": [
    "### Caminhos "
   ]
  },
  {
   "cell_type": "code",
   "execution_count": null,
   "metadata": {
    "ExecuteTime": {
     "end_time": "2021-09-22T01:20:10.349542Z",
     "start_time": "2021-09-22T01:20:10.334416Z"
    }
   },
   "outputs": [],
   "source": [
    "try:\n",
    "    PASTA_NOTEBOOK / \"\"\n",
    "except:\n",
    "    PASTA_NOTEBOOK = Path(os.getcwd())\n",
    "    \n",
    "PASTA_PROJETO = PASTA_NOTEBOOK.parent\n",
    "PASTA_DADOS = PASTA_PROJETO / \"dados\"\n",
    "PASTA_SAIDA = PASTA_PROJETO / \"saida\"\n",
    "PASTA_TESTE = PASTA_PROJETO / \"src/tests\"\n",
    "PASTA_TESTE_DADOS = PASTA_TESTE / \"dados\"\n",
    "PASTA_TESTE_SAIDA = PASTA_TESTE / \"saida\"\n",
    "PASTA_TESTE_CODIGO = PASTA_TESTE / \"codigos\"\n",
    "\n",
    "os.chdir(PASTA_PROJETO)"
   ]
  },
  {
   "cell_type": "markdown",
   "metadata": {},
   "source": [
    "### Funções "
   ]
  },
  {
   "cell_type": "code",
   "execution_count": null,
   "metadata": {
    "ExecuteTime": {
     "end_time": "2021-09-22T01:20:54.677633Z",
     "start_time": "2021-09-22T01:20:54.654694Z"
    }
   },
   "outputs": [],
   "source": [
    "def carrega_dados(caminho: Path, tabela: str, cols: list, filtros: dict = None) -> dict:\n",
    "    usecols = lambda x: (\n",
    "        x in [\n",
    "            \"PK_COD_ENTIDADE\",\n",
    "            \"CO_ENTIDADE\",\n",
    "            \"PK_COD_TURMA\", \n",
    "            \"ID_TURMA\",\n",
    "            \"FK_COD_DOCENTE\",\n",
    "            \"CO_PESSOA_FISICA\",\n",
    "            \"ID_DOCENTE\",\n",
    "            \"PK_COD_MATRICULA\",\n",
    "            \"ID_MATRICULA\",\n",
    "            \"FK_COD_ALUNO\",\n",
    "            \"ID_ALUNO\",\n",
    "            \"ANO_CENSO\",\n",
    "            \"NU_ANO_CENSO\",\n",
    "        ]\n",
    "    )\n",
    "    \n",
    "    # inicializa os dados de entrada como um dicionário vazio\n",
    "    dados = dict()\n",
    "\n",
    "    # para cada arquivo do censo demográfico\n",
    "    for censo in tqdm(os.listdir(caminho)):\n",
    "        # abre o arquivo zip com o conteúdo do censo\n",
    "        with zipfile.ZipFile(caminho / f\"{censo}\") as z:\n",
    "            # lista os conteúdos dos arquivos zip que contém o nome tabela\n",
    "            arqs = [f for f in z.namelist() if f\"{tabela}.\" in f.lower()]\n",
    "\n",
    "            # se houver algum arquivo deste tipo dentro do zip\n",
    "            if len(arqs) == 1:\n",
    "                arq = arqs[0]\n",
    "\n",
    "                # e este arquivo for um CSV\n",
    "                if \".csv\" in arq.lower():\n",
    "                    # le os conteúdos do arquivo por meio do buffer do zip\n",
    "                    dados[censo] = pd.read_csv(\n",
    "                        z.open(arq), encoding=\"latin-1\", sep=\"|\", usecols=usecols\n",
    "                    )\n",
    "\n",
    "                # caso seja outro arquivo zip\n",
    "                elif \".zip\" in arq.lower():\n",
    "                    # cria um novo zipfile e le o arquivo deste novo zip\n",
    "                    with zipfile.ZipFile(z.open(arq)) as z2:\n",
    "                        arq = z2.namelist()[0]\n",
    "                        dados[censo] = pd.read_csv(\n",
    "                            z2.open(arq), encoding=\"latin-1\", sep=\"|\", usecols=usecols\n",
    "                        )\n",
    "\n",
    "                # caso seja um arquivo winrar\n",
    "                elif \".rar\" in arq.lower():\n",
    "                    # extraí o conteúdo do arquivo\n",
    "                    z.extract(arq, path=caminho)\n",
    "                    pyunpack.Archive(caminho / f\"{arq}\").extractall(caminho)\n",
    "\n",
    "                    # lê os dados do disco\n",
    "                    csv = [\n",
    "                        f\n",
    "                        for f in os.listdir(caminho)\n",
    "                        if f\"{tabela}.\" in f.lower()\n",
    "                    ][0]\n",
    "                    dados[censo] = pd.read_csv(\n",
    "                        caminho / f\"{csv}\", encoding=\"latin-1\", sep=\"|\", usecols=usecols\n",
    "                    )\n",
    "\n",
    "                    # excluí os conteúdos extraídos\n",
    "                    shutil.rmtree(caminho / f\"{arq.split('/')[0]}\")\n",
    "                    os.remove(caminho / f\"{csv}\")\n",
    "                \n",
    "                # renomeia as colunas\n",
    "                dados[censo].rename(\n",
    "                    columns={\n",
    "                        \"PK_COD_ENTIDADE\": \"CO_ENTIDADE\",\n",
    "                        \"PK_COD_TURMA\": \"ID_TURMA\",\n",
    "                        \"FK_COD_DOCENTE\": \"ID_DOCENTE\",\n",
    "                        \"CO_PESSOA_FISICA\": \"ID_DOCENTE\",\n",
    "                        \"PK_COD_MATRICULA\": \"ID_MATRICULA\",\n",
    "                        \"FK_COD_ALUNO\": \"ID_ALUNO\",\n",
    "                        \"ANO_CENSO\": \"NU_ANO_CENSO\",\n",
    "                    }, \n",
    "                    inplace=True\n",
    "                )\n",
    "                                \n",
    "                # aplica os filtros sobre o arquivo\n",
    "                if filtros is not None:\n",
    "                    for c, l in filtros.items():\n",
    "                        dados[censo] = dados[censo].loc[lambda f: f[c].isin(l)]\n",
    "                \n",
    "                # seleciona as colunas\n",
    "                dados[censo] = dados[censo].reindex(columns=cols).drop_duplicates()\n",
    "\n",
    "    return dados"
   ]
  },
  {
   "cell_type": "markdown",
   "metadata": {},
   "source": [
    "---"
   ]
  },
  {
   "cell_type": "markdown",
   "metadata": {},
   "source": [
    "## Escolas "
   ]
  },
  {
   "cell_type": "code",
   "execution_count": null,
   "metadata": {
    "ExecuteTime": {
     "end_time": "2021-09-21T20:05:10.712678Z",
     "start_time": "2021-09-21T20:04:38.021534Z"
    }
   },
   "outputs": [],
   "source": [
    "np.random.seed(42)\n",
    "\n",
    "dados = carrega_dados(PASTA_DADOS / \"censo_escolar\", \"escolas\", [\"CO_ENTIDADE\"])\n",
    "\n",
    "escolas = (\n",
    "    pd.concat([d[\"CO_ENTIDADE\"] for d in dados.values()])\n",
    "    .drop_duplicates()\n",
    "    .sample(1000)\n",
    ")\n",
    "\n",
    "escolas.to_pickle(PASTA_TESTE_CODIGO / \"escolas.pkl\")\n",
    "\n",
    "del dados\n",
    "while gc.collect():\n",
    "    continue"
   ]
  },
  {
   "cell_type": "markdown",
   "metadata": {},
   "source": [
    "## Gestores "
   ]
  },
  {
   "cell_type": "code",
   "execution_count": null,
   "metadata": {
    "ExecuteTime": {
     "end_time": "2021-09-21T20:06:36.020330Z",
     "start_time": "2021-09-21T20:06:34.486735Z"
    }
   },
   "outputs": [],
   "source": [
    "escolas = pd.read_pickle(PASTA_TESTE_CODIGO / \"escolas.pkl\")\n",
    "\n",
    "dados = carrega_dados(\n",
    "    PASTA_DADOS / \"censo_escolar\", \n",
    "    \"gestor\", \n",
    "    [\"ID_GESTOR\"],\n",
    "    filtros={\"CO_ENTIDADE\": escolas.values}\n",
    ")\n",
    "\n",
    "gestores = (\n",
    "    pd.concat([d[\"ID_GESTOR\"] for d in dados.values()])\n",
    "    .drop_duplicates()\n",
    ")\n",
    "\n",
    "gestores.to_pickle(PASTA_TESTE_CODIGO / \"gestores.pkl\")\n",
    "\n",
    "del dados\n",
    "while gc.collect():\n",
    "    continue"
   ]
  },
  {
   "cell_type": "markdown",
   "metadata": {},
   "source": [
    "## Turmas "
   ]
  },
  {
   "cell_type": "code",
   "execution_count": null,
   "metadata": {
    "ExecuteTime": {
     "end_time": "2021-09-21T20:08:56.956082Z",
     "start_time": "2021-09-21T20:06:38.166397Z"
    }
   },
   "outputs": [],
   "source": [
    "np.random.seed(42)\n",
    "\n",
    "escolas = pd.read_pickle(PASTA_TESTE_CODIGO / \"escolas.pkl\")\n",
    "\n",
    "dados = carrega_dados(\n",
    "    PASTA_DADOS / \"censo_escolar\", \n",
    "    \"turmas\", \n",
    "    [\"ID_TURMA\", \"NU_ANO_CENSO\"],\n",
    "    filtros={\"CO_ENTIDADE\": escolas.values}\n",
    ")\n",
    "\n",
    "turmas = (\n",
    "    pd.concat([d[\"ID_TURMA\"].sample(1000) for d in dados.values()])\n",
    "    .drop_duplicates()\n",
    ")\n",
    "\n",
    "turmas.to_pickle(PASTA_TESTE_CODIGO / \"turmas.pkl\")\n",
    "\n",
    "del dados\n",
    "while gc.collect():\n",
    "    continue"
   ]
  },
  {
   "cell_type": "markdown",
   "metadata": {},
   "source": [
    "## Docentes "
   ]
  },
  {
   "cell_type": "code",
   "execution_count": null,
   "metadata": {
    "ExecuteTime": {
     "end_time": "2021-09-22T01:40:05.417075Z",
     "start_time": "2021-09-22T01:34:22.109061Z"
    }
   },
   "outputs": [],
   "source": [
    "np.random.seed(42)\n",
    "\n",
    "turmas = pd.read_pickle(PASTA_TESTE_CODIGO / \"turmas.pkl\")\n",
    "\n",
    "docentes = pd.DataFrame()\n",
    "\n",
    "for reg in [\"co\", \"nordeste\", \"norte\", \"sudeste\", \"sul\"]:\n",
    "    dados = carrega_dados(\n",
    "        PASTA_DADOS / \"censo_escolar\", \n",
    "        f\"docentes_{reg}\", \n",
    "        [\"ID_DOCENTE\", \"NU_ANO_CENSO\"],\n",
    "        filtros={\"ID_TURMA\": turmas.values}\n",
    "    )\n",
    "    \n",
    "    docentes = docentes.append(pd.concat(list(dados.values())))\n",
    "\n",
    "docentes = pd.concat([\n",
    "    docentes.loc[lambda f: f[\"NU_ANO_CENSO\"] == a, \"ID_DOCENTE\"].sample(1000) \n",
    "    for a in docentes[\"NU_ANO_CENSO\"].unique()\n",
    "]).drop_duplicates()\n",
    "docentes.to_pickle(PASTA_TESTE_CODIGO / \"docentes.pkl\")\n",
    "\n",
    "del dados\n",
    "while gc.collect():\n",
    "    continue"
   ]
  },
  {
   "cell_type": "markdown",
   "metadata": {},
   "source": [
    "## Matriculas "
   ]
  },
  {
   "cell_type": "code",
   "execution_count": null,
   "metadata": {
    "ExecuteTime": {
     "end_time": "2021-09-21T22:48:20.669907Z",
     "start_time": "2021-09-21T22:21:41.186147Z"
    }
   },
   "outputs": [],
   "source": [
    "np.random.seed(42)\n",
    "\n",
    "turmas = pd.read_pickle(PASTA_TESTE_CODIGO / \"turmas.pkl\")\n",
    "\n",
    "matriculas = pd.DataFrame()\n",
    "\n",
    "for reg in [\"co\", \"nordeste\", \"norte\", \"sudeste\", \"sul\"]:\n",
    "    dados = carrega_dados(\n",
    "        PASTA_DADOS / \"censo_escolar\", \n",
    "        f\"matricula_{reg}\", \n",
    "        [\"ID_MATRICULA\", \"ID_ALUNO\", \"NU_ANO_CENSO\"],\n",
    "        filtros={\"ID_TURMA\": turmas.values}\n",
    "    )\n",
    "    \n",
    "    matriculas = matriculas.append(pd.concat(list(dados.values())))\n",
    "\n",
    "    \n",
    "matriculas = pd.concat([\n",
    "    matriculas.loc[lambda f: f[\"NU_ANO_CENSO\"] == a, \"ID_MATRICULA\"].sample(1000) \n",
    "    for a in matriculas[\"NU_ANO_CENSO\"].unique()\n",
    "]).drop_duplicates()\n",
    "matriculas.to_pickle(PASTA_TESTE_CODIGO / \"matriculas.pkl\")\n",
    "\n",
    "del dados\n",
    "while gc.collect():\n",
    "    continue"
   ]
  },
  {
   "cell_type": "markdown",
   "metadata": {},
   "source": [
    "---"
   ]
  }
 ],
 "metadata": {
  "kernelspec": {
   "display_name": "Python 3",
   "language": "python",
   "name": "python3"
  },
  "language_info": {
   "codemirror_mode": {
    "name": "ipython",
    "version": 3
   },
   "file_extension": ".py",
   "mimetype": "text/x-python",
   "name": "python",
   "nbconvert_exporter": "python",
   "pygments_lexer": "ipython3",
   "version": "3.8.11"
  },
  "toc": {
   "base_numbering": 1,
   "nav_menu": {},
   "number_sections": true,
   "sideBar": true,
   "skip_h1_title": true,
   "title_cell": "Table of Contents",
   "title_sidebar": "Contents",
   "toc_cell": false,
   "toc_position": {
    "height": "calc(100% - 180px)",
    "left": "10px",
    "top": "150px",
    "width": "304.475px"
   },
   "toc_section_display": true,
   "toc_window_display": true
  },
  "varInspector": {
   "cols": {
    "lenName": 16,
    "lenType": 16,
    "lenVar": 40
   },
   "kernels_config": {
    "python": {
     "delete_cmd_postfix": "",
     "delete_cmd_prefix": "del ",
     "library": "var_list.py",
     "varRefreshCmd": "print(var_dic_list())"
    },
    "r": {
     "delete_cmd_postfix": ") ",
     "delete_cmd_prefix": "rm(",
     "library": "var_list.r",
     "varRefreshCmd": "cat(var_dic_list()) "
    }
   },
   "types_to_exclude": [
    "module",
    "function",
    "builtin_function_or_method",
    "instance",
    "_Feature"
   ],
   "window_display": false
  }
 },
 "nbformat": 4,
 "nbformat_minor": 4
}
