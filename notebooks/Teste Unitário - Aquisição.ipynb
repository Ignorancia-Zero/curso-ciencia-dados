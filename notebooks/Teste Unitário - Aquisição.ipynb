{
 "cells": [
  {
   "cell_type": "markdown",
   "metadata": {},
   "source": [
    "# Teste Unitário - Aquisição"
   ]
  },
  {
   "cell_type": "markdown",
   "metadata": {},
   "source": [
    "**Objetivo**: Gerar as bases amostrais do pacote de aquisição"
   ]
  },
  {
   "cell_type": "markdown",
   "metadata": {},
   "source": [
    "---"
   ]
  },
  {
   "cell_type": "markdown",
   "metadata": {},
   "source": [
    "## Cabeçalho "
   ]
  },
  {
   "cell_type": "markdown",
   "metadata": {},
   "source": [
    "### Imports "
   ]
  },
  {
   "cell_type": "code",
   "execution_count": null,
   "metadata": {
    "ExecuteTime": {
     "end_time": "2021-09-21T23:34:24.698075Z",
     "start_time": "2021-09-21T23:34:24.687104Z"
    }
   },
   "outputs": [],
   "source": [
    "import gc\n",
    "import os\n",
    "import pyunpack\n",
    "import rarfile\n",
    "import shutil\n",
    "import sys\n",
    "import zipfile\n",
    "import numpy as np\n",
    "import pandas as pd\n",
    "\n",
    "from io import BytesIO\n",
    "from pathlib import Path\n",
    "from tqdm import tqdm"
   ]
  },
  {
   "cell_type": "markdown",
   "metadata": {},
   "source": [
    "### Configurações "
   ]
  },
  {
   "cell_type": "code",
   "execution_count": null,
   "metadata": {
    "ExecuteTime": {
     "end_time": "2021-09-21T22:56:38.787586Z",
     "start_time": "2021-09-21T22:56:38.765589Z"
    }
   },
   "outputs": [],
   "source": [
    "%config Completer.use_jedi = False"
   ]
  },
  {
   "cell_type": "markdown",
   "metadata": {},
   "source": [
    "### Caminhos "
   ]
  },
  {
   "cell_type": "code",
   "execution_count": null,
   "metadata": {
    "ExecuteTime": {
     "end_time": "2021-09-22T12:53:53.349583Z",
     "start_time": "2021-09-22T12:53:53.336147Z"
    }
   },
   "outputs": [],
   "source": [
    "try:\n",
    "    PASTA_NOTEBOOK / \"\"\n",
    "except:\n",
    "    PASTA_NOTEBOOK = Path(os.getcwd())\n",
    "    \n",
    "PASTA_PROJETO = PASTA_NOTEBOOK.parent\n",
    "PASTA_DADOS = PASTA_PROJETO / \"dados\"\n",
    "PASTA_SAIDA = PASTA_PROJETO / \"saida\"\n",
    "PASTA_TESTE = PASTA_PROJETO / \"src/tests\"\n",
    "PASTA_TESTE_DADOS = PASTA_TESTE / \"dados\"\n",
    "PASTA_TESTE_SAIDA = PASTA_TESTE / \"saida\"\n",
    "PASTA_TESTE_CODIGO = PASTA_TESTE / \"codigos\"\n",
    "PASTA_TESTE_AQUIS = PASTA_TESTE / \"aquisicao\"\n",
    "\n",
    "os.chdir(PASTA_PROJETO)"
   ]
  },
  {
   "cell_type": "markdown",
   "metadata": {},
   "source": [
    "---"
   ]
  },
  {
   "cell_type": "markdown",
   "metadata": {},
   "source": [
    "## Códigos "
   ]
  },
  {
   "cell_type": "code",
   "execution_count": null,
   "metadata": {
    "ExecuteTime": {
     "end_time": "2021-09-22T01:44:04.555105Z",
     "start_time": "2021-09-22T01:44:04.539064Z"
    }
   },
   "outputs": [],
   "source": [
    "docentes = pd.read_pickle(PASTA_TESTE_CODIGO / \"docentes.pkl\").values\n",
    "escolas = pd.read_pickle(PASTA_TESTE_CODIGO / \"escolas.pkl\").values\n",
    "gestores = pd.read_pickle(PASTA_TESTE_CODIGO / \"gestores.pkl\").values\n",
    "matriculas = pd.read_pickle(PASTA_TESTE_CODIGO / \"matriculas.pkl\").values\n",
    "turmas = pd.read_pickle(PASTA_TESTE_CODIGO / \"turmas.pkl\").values"
   ]
  },
  {
   "cell_type": "markdown",
   "metadata": {},
   "source": [
    "---"
   ]
  },
  {
   "cell_type": "markdown",
   "metadata": {},
   "source": [
    "## Censo Escolar "
   ]
  },
  {
   "cell_type": "code",
   "execution_count": null,
   "metadata": {
    "ExecuteTime": {
     "end_time": "2021-09-22T05:29:52.513787Z",
     "start_time": "2021-09-22T01:44:05.532172Z"
    }
   },
   "outputs": [],
   "source": [
    "caminho_entrada = PASTA_DADOS / \"censo_escolar\"\n",
    "caminho_saida = PASTA_TESTE_DADOS / \"censo_escolar\"\n",
    "caminho_saida.mkdir(exist_ok=True, parents=True)\n",
    "tabelas = {\n",
    "    \"docentes_co\": [docentes, (\"ID_DOCENTE\", \"FK_COD_DOCENTE\", \"CO_PESSOA_FISICA\")], \n",
    "    \"docentes_nordeste\": [docentes, (\"ID_DOCENTE\", \"FK_COD_DOCENTE\", \"CO_PESSOA_FISICA\")], \n",
    "    \"docentes_norte\": [docentes, (\"ID_DOCENTE\", \"FK_COD_DOCENTE\", \"CO_PESSOA_FISICA\")], \n",
    "    \"docentes_sudeste\": [docentes, (\"ID_DOCENTE\", \"FK_COD_DOCENTE\", \"CO_PESSOA_FISICA\")], \n",
    "    \"docentes_sul\": [docentes, (\"ID_DOCENTE\", \"FK_COD_DOCENTE\", \"CO_PESSOA_FISICA\")], \n",
    "    \"escolas\": [escolas, (\"PK_COD_ENTIDADE\", \"CO_ENTIDADE\")], \n",
    "    \"gestor\": [gestores, (\"ID_GESTOR\",)], \n",
    "    \"matricula_co\": [matriculas, (\"PK_COD_MATRICULA\", \"ID_MATRICULA\")], \n",
    "    \"matricula_nordeste\": [matriculas, (\"PK_COD_MATRICULA\", \"ID_MATRICULA\")], \n",
    "    \"matricula_norte\": [matriculas, (\"PK_COD_MATRICULA\", \"ID_MATRICULA\")], \n",
    "    \"matricula_sudeste\": [matriculas, (\"PK_COD_MATRICULA\", \"ID_MATRICULA\")], \n",
    "    \"matricula_sul\": [matriculas, (\"PK_COD_MATRICULA\", \"ID_MATRICULA\")], \n",
    "    \"turmas\": [turmas, (\"ID_TURMA\", \"PK_COD_TURMA\")], \n",
    "}\n",
    "\n",
    "# para cada arquivo do censo demográfico\n",
    "for censo in tqdm(os.listdir(caminho_entrada)):\n",
    "    # abre o arquivo zip com o conteúdo do censo\n",
    "    with zipfile.ZipFile(caminho_entrada / f\"{censo}\") as zin:\n",
    "        # lista os arquivos que precisam de uma versão amostral\n",
    "        arqs = [\n",
    "            f \n",
    "            for tabela in tabelas\n",
    "            for f in zin.namelist() \n",
    "            if f\"{tabela}.\" in f.lower()\n",
    "        ]\n",
    "        \n",
    "        if len(arqs) == 0:\n",
    "            continue\n",
    "        \n",
    "        # cria uma cópia do arquivo zip na pasta de destino\n",
    "        with zipfile.ZipFile(\n",
    "            caminho_saida / f\"{censo}\", \n",
    "            mode=\"w\", \n",
    "            compression=zipfile.ZIP_DEFLATED, \n",
    "            compresslevel=9\n",
    "        ) as zout:\n",
    "            # para cada item no arquivo de entrada\n",
    "            # for item in zin.infolist():\n",
    "            #     # verifica se o item faz parte de um dos arquivos amostrais\n",
    "            #     if item.filename not in arqs:\n",
    "            #         # se não, o copia para o novo zip\n",
    "            #         zout.writestr(item, zin.read(item.filename))\n",
    "            \n",
    "            # para os demais itens\n",
    "            for arq in arqs:\n",
    "                tabela = arq.lower().split(\"/\")[-1].split(\".\")[0]\n",
    "                arq_zip = arq.split(\"/\")[-1].split(\".\")[0]\n",
    "                \n",
    "                # carrega o arquivo CSV\n",
    "                if \".csv\" in arq.lower():\n",
    "                    df = pd.read_csv(zin.open(arq), encoding=\"latin-1\", sep=\"|\")\n",
    "                elif \".zip\" in arq.lower():\n",
    "                    with zipfile.ZipFile(zin.open(arq)) as z2:\n",
    "                        para_abrir = z2.namelist()[0]\n",
    "                        df = pd.read_csv(z2.open(para_abrir), encoding=\"latin-1\", sep=\"|\")\n",
    "                elif \".rar\" in arq.lower():\n",
    "                    zin.extract(arq, path=caminho_entrada)\n",
    "                    pyunpack.Archive(caminho_entrada / f\"{arq}\").extractall(caminho_entrada)\n",
    "                    csv = [\n",
    "                        f\n",
    "                        for f in os.listdir(caminho_entrada)\n",
    "                        if f\"{tabela}.\" in f.lower()\n",
    "                    ][0]\n",
    "                    df = pd.read_csv(caminho_entrada / f\"{csv}\", encoding=\"latin-1\", sep=\"|\")\n",
    "                    shutil.rmtree(caminho_entrada / f\"{arq.split('/')[0]}\")\n",
    "                    os.remove(caminho_entrada / f\"{csv}\")\n",
    "\n",
    "                # aplica os filtros sobre o arquivo\n",
    "                col = [c for c in tabelas[tabela][1] if c in df][0]\n",
    "                df = df.loc[lambda f: f[col].isin(tabelas[tabela][0])]\n",
    "                \n",
    "                # exporta o resultado\n",
    "                df.to_parquet(PASTA_TESTE_AQUIS / f\"intermediario/{tabela}.parquet\", index=False)\n",
    "                if \".csv\" in arq.lower():\n",
    "                    txt = df.to_csv(encoding=\"latin-1\", sep=\"|\", index=False)\n",
    "                    zout.writestr(arq, txt)\n",
    "                elif \".zip\" in arq.lower():\n",
    "                    with zipfile.ZipFile(\n",
    "                        caminho_saida / f\"{arq_zip}.zip\", \n",
    "                        mode=\"w\", \n",
    "                        compression=zipfile.ZIP_DEFLATED, \n",
    "                        compresslevel=9\n",
    "                    ) as zinner:\n",
    "                        txt = df.to_csv(encoding=\"latin-1\", sep=\"|\", index=False)\n",
    "                        zinner.writestr(f\"{arq_zip}.csv\", txt)\n",
    "                    zout.write(f\"{caminho_saida / arq_zip}.zip\", arq)\n",
    "                    os.remove(f\"{caminho_saida / arq_zip}.zip\")\n",
    "                elif \".rar\" in arq.lower():\n",
    "                    os.chdir(caminho_saida)\n",
    "                    df.to_csv(f\"{arq_zip}.csv\", encoding=\"latin-1\", sep=\"|\", index=False)\n",
    "                    if \"win\" in sys.platform:\n",
    "                        os.system(f\"{PASTA_PROJETO / 'suporte/WinRAR/rar'} a {arq_zip}.rar {arq_zip}.csv\")\n",
    "                    else:\n",
    "                        os.system(f\"rar a {arq_zip}.rar {arq_zip}.csv\")\n",
    "                    zout.write(f\"{caminho_saida / arq_zip}.rar\", arq)\n",
    "                    os.remove(f\"{caminho_saida / arq_zip}.csv\")\n",
    "                    os.remove(f\"{caminho_saida / arq_zip}.rar\")\n",
    "                    os.chdir(PASTA_PROJETO)"
   ]
  },
  {
   "cell_type": "markdown",
   "metadata": {},
   "source": [
    "---"
   ]
  }
 ],
 "metadata": {
  "kernelspec": {
   "display_name": "Python 3",
   "language": "python",
   "name": "python3"
  },
  "language_info": {
   "codemirror_mode": {
    "name": "ipython",
    "version": 3
   },
   "file_extension": ".py",
   "mimetype": "text/x-python",
   "name": "python",
   "nbconvert_exporter": "python",
   "pygments_lexer": "ipython3",
   "version": "3.8.11"
  },
  "toc": {
   "base_numbering": 1,
   "nav_menu": {},
   "number_sections": true,
   "sideBar": true,
   "skip_h1_title": true,
   "title_cell": "Table of Contents",
   "title_sidebar": "Contents",
   "toc_cell": false,
   "toc_position": {},
   "toc_section_display": true,
   "toc_window_display": true
  },
  "varInspector": {
   "cols": {
    "lenName": 16,
    "lenType": 16,
    "lenVar": 40
   },
   "kernels_config": {
    "python": {
     "delete_cmd_postfix": "",
     "delete_cmd_prefix": "del ",
     "library": "var_list.py",
     "varRefreshCmd": "print(var_dic_list())"
    },
    "r": {
     "delete_cmd_postfix": ") ",
     "delete_cmd_prefix": "rm(",
     "library": "var_list.r",
     "varRefreshCmd": "cat(var_dic_list()) "
    }
   },
   "types_to_exclude": [
    "module",
    "function",
    "builtin_function_or_method",
    "instance",
    "_Feature"
   ],
   "window_display": false
  }
 },
 "nbformat": 4,
 "nbformat_minor": 4
}
