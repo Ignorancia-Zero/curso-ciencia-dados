{
 "cells": [
  {
   "cell_type": "markdown",
   "metadata": {},
   "source": [
    "# Teste Unitário - Datamart"
   ]
  },
  {
   "cell_type": "markdown",
   "metadata": {},
   "source": [
    "**Objetivo**: Gerar as bases amostrais do pacote de datamart"
   ]
  },
  {
   "cell_type": "markdown",
   "metadata": {},
   "source": [
    "---"
   ]
  },
  {
   "cell_type": "markdown",
   "metadata": {},
   "source": [
    "## Cabeçalho "
   ]
  },
  {
   "cell_type": "markdown",
   "metadata": {},
   "source": [
    "### Imports "
   ]
  },
  {
   "cell_type": "code",
   "execution_count": null,
   "metadata": {
    "ExecuteTime": {
     "end_time": "2021-11-13T15:14:32.853382Z",
     "start_time": "2021-11-13T15:14:32.494398Z"
    }
   },
   "outputs": [],
   "source": [
    "import os\n",
    "import pyunpack\n",
    "import rarfile\n",
    "import shutil\n",
    "import zipfile\n",
    "import numpy as np\n",
    "import pandas as pd\n",
    "\n",
    "from pathlib import Path\n",
    "from tqdm import tqdm"
   ]
  },
  {
   "cell_type": "markdown",
   "metadata": {},
   "source": [
    "### Configurações "
   ]
  },
  {
   "cell_type": "code",
   "execution_count": null,
   "metadata": {
    "ExecuteTime": {
     "end_time": "2021-11-13T15:14:33.151095Z",
     "start_time": "2021-11-13T15:14:33.052853Z"
    }
   },
   "outputs": [],
   "source": [
    "%config Completer.use_jedi = False\n",
    "%load_ext autoreload\n",
    "%autoreload 2"
   ]
  },
  {
   "cell_type": "markdown",
   "metadata": {},
   "source": [
    "### Caminhos "
   ]
  },
  {
   "cell_type": "code",
   "execution_count": null,
   "metadata": {
    "ExecuteTime": {
     "end_time": "2021-11-13T15:14:33.882514Z",
     "start_time": "2021-11-13T15:14:33.805692Z"
    }
   },
   "outputs": [],
   "source": [
    "try:\n",
    "    PASTA_NOTEBOOK / \"\"\n",
    "except:\n",
    "    PASTA_NOTEBOOK = Path(os.getcwd())\n",
    "    \n",
    "PASTA_PROJETO = PASTA_NOTEBOOK.parent\n",
    "PASTA_DADOS = PASTA_PROJETO / \"dados\"\n",
    "PASTA_COMPLETO = PASTA_DADOS / \"completo\"\n",
    "PASTA_EXTERNO = PASTA_COMPLETO / \"externo\"\n",
    "PASTA_TESTE = PASTA_PROJETO / \"src/tests\"\n",
    "PASTA_TESTE_DADOS = PASTA_TESTE / \"dados\"\n",
    "PASTA_TESTE_SAIDA = PASTA_TESTE / \"saida\"\n",
    "PASTA_TESTE_CODIGO = PASTA_TESTE / \"codigos\"\n",
    "PASTA_TESTE_AQUIS = PASTA_TESTE / \"aquisicao\"\n",
    "PASTA_TESTE_DM = PASTA_TESTE / \"datamart\"\n",
    "\n",
    "os.chdir(PASTA_PROJETO)"
   ]
  },
  {
   "cell_type": "markdown",
   "metadata": {},
   "source": [
    "### Código Próprio "
   ]
  },
  {
   "cell_type": "code",
   "execution_count": null,
   "metadata": {
    "ExecuteTime": {
     "end_time": "2021-11-13T15:14:35.412498Z",
     "start_time": "2021-11-13T15:14:34.637487Z"
    }
   },
   "outputs": [],
   "source": [
    "os.chdir(PASTA_PROJETO)\n",
    "import src.io.le_dados as le_dados\n",
    "import src.io.caminho as caminho\n",
    "import src.io.data_store as data_store\n",
    "import src.aquisicao as aquis\n",
    "import src.aquisicao.executa as aquis_ex"
   ]
  },
  {
   "cell_type": "markdown",
   "metadata": {},
   "source": [
    "---"
   ]
  },
  {
   "cell_type": "markdown",
   "metadata": {},
   "source": [
    "## DataStore "
   ]
  },
  {
   "cell_type": "code",
   "execution_count": null,
   "metadata": {
    "ExecuteTime": {
     "end_time": "2021-11-13T15:14:36.112824Z",
     "start_time": "2021-11-13T15:14:35.982570Z"
    }
   },
   "outputs": [],
   "source": [
    "ds = data_store.DataStore(\"teste\")"
   ]
  },
  {
   "cell_type": "markdown",
   "metadata": {},
   "source": [
    "---"
   ]
  },
  {
   "cell_type": "markdown",
   "metadata": {},
   "source": [
    "## Aquisição "
   ]
  },
  {
   "cell_type": "markdown",
   "metadata": {},
   "source": [
    "### INEP "
   ]
  },
  {
   "cell_type": "code",
   "execution_count": null,
   "metadata": {
    "ExecuteTime": {
     "end_time": "2021-11-13T15:18:46.713152Z",
     "start_time": "2021-11-13T15:16:44.429734Z"
    },
    "scrolled": true
   },
   "outputs": [],
   "source": [
    "for ano in range(2007, 2021):\n",
    "    for etl in [\"escola\", \"docente\", \"matricula\", \"gestor\", \"turma\"]:\n",
    "        if etl == \"gestor\" and ano <= 2018:\n",
    "            continue\n",
    "        aquis_ex.executa_etl_microdado_inep(etl, ds, str(ano), True, True)\n",
    "aquis_ex.executa_etl(\"ideb\", ds, True, True)"
   ]
  },
  {
   "cell_type": "markdown",
   "metadata": {},
   "source": [
    "---"
   ]
  }
 ],
 "metadata": {
  "hide_input": false,
  "kernelspec": {
   "display_name": "Python 3 (ipykernel)",
   "language": "python",
   "name": "python3"
  },
  "language_info": {
   "codemirror_mode": {
    "name": "ipython",
    "version": 3
   },
   "file_extension": ".py",
   "mimetype": "text/x-python",
   "name": "python",
   "nbconvert_exporter": "python",
   "pygments_lexer": "ipython3",
   "version": "3.9.7"
  },
  "toc": {
   "base_numbering": 1,
   "nav_menu": {},
   "number_sections": true,
   "sideBar": true,
   "skip_h1_title": true,
   "title_cell": "Table of Contents",
   "title_sidebar": "Contents",
   "toc_cell": false,
   "toc_position": {},
   "toc_section_display": true,
   "toc_window_display": true
  },
  "varInspector": {
   "cols": {
    "lenName": 16,
    "lenType": 16,
    "lenVar": 40
   },
   "kernels_config": {
    "python": {
     "delete_cmd_postfix": "",
     "delete_cmd_prefix": "del ",
     "library": "var_list.py",
     "varRefreshCmd": "print(var_dic_list())"
    },
    "r": {
     "delete_cmd_postfix": ") ",
     "delete_cmd_prefix": "rm(",
     "library": "var_list.r",
     "varRefreshCmd": "cat(var_dic_list()) "
    }
   },
   "types_to_exclude": [
    "module",
    "function",
    "builtin_function_or_method",
    "instance",
    "_Feature"
   ],
   "window_display": false
  }
 },
 "nbformat": 4,
 "nbformat_minor": 4
}
