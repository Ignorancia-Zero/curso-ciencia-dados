{
 "cells": [
  {
   "cell_type": "markdown",
   "metadata": {},
   "source": [
    "# Teste Unitário - Datamart"
   ]
  },
  {
   "cell_type": "markdown",
   "metadata": {},
   "source": [
    "**Objetivo**: Gerar as bases amostrais do pacote de datamart"
   ]
  },
  {
   "cell_type": "markdown",
   "metadata": {},
   "source": [
    "---"
   ]
  },
  {
   "cell_type": "markdown",
   "metadata": {},
   "source": [
    "## Cabeçalho "
   ]
  },
  {
   "cell_type": "markdown",
   "metadata": {},
   "source": [
    "### Imports "
   ]
  },
  {
   "cell_type": "code",
   "execution_count": 2,
   "metadata": {
    "ExecuteTime": {
     "end_time": "2021-10-30T15:30:48.962262Z",
     "start_time": "2021-10-30T15:30:47.975901Z"
    }
   },
   "outputs": [],
   "source": [
    "import os\n",
    "import pyunpack\n",
    "import rarfile\n",
    "import shutil\n",
    "import zipfile\n",
    "import numpy as np\n",
    "import pandas as pd\n",
    "\n",
    "from pathlib import Path\n",
    "from tqdm import tqdm"
   ]
  },
  {
   "cell_type": "markdown",
   "metadata": {},
   "source": [
    "### Configurações "
   ]
  },
  {
   "cell_type": "code",
   "execution_count": 3,
   "metadata": {
    "ExecuteTime": {
     "end_time": "2021-10-30T15:30:54.421661Z",
     "start_time": "2021-10-30T15:30:54.324919Z"
    }
   },
   "outputs": [],
   "source": [
    "%config Completer.use_jedi = False\n",
    "%load_ext autoreload\n",
    "%autoreload 2"
   ]
  },
  {
   "cell_type": "markdown",
   "metadata": {},
   "source": [
    "### Caminhos "
   ]
  },
  {
   "cell_type": "code",
   "execution_count": 4,
   "metadata": {
    "ExecuteTime": {
     "end_time": "2021-10-30T15:30:56.029361Z",
     "start_time": "2021-10-30T15:30:55.941596Z"
    }
   },
   "outputs": [],
   "source": [
    "try:\n",
    "    PASTA_NOTEBOOK / \"\"\n",
    "except:\n",
    "    PASTA_NOTEBOOK = Path(os.getcwd())\n",
    "    \n",
    "PASTA_PROJETO = PASTA_NOTEBOOK.parent\n",
    "PASTA_DADOS = PASTA_PROJETO / \"dados\"\n",
    "PASTA_COMPLETO = PASTA_DADOS / \"completo\"\n",
    "PASTA_EXTERNO = PASTA_COMPLETO / \"externo\"\n",
    "PASTA_TESTE = PASTA_PROJETO / \"src/tests\"\n",
    "PASTA_TESTE_DADOS = PASTA_TESTE / \"dados\"\n",
    "PASTA_TESTE_SAIDA = PASTA_TESTE / \"saida\"\n",
    "PASTA_TESTE_CODIGO = PASTA_TESTE / \"codigos\"\n",
    "PASTA_TESTE_AQUIS = PASTA_TESTE / \"aquisicao\"\n",
    "PASTA_TESTE_DM = PASTA_TESTE / \"datamart\"\n",
    "\n",
    "os.chdir(PASTA_PROJETO)"
   ]
  },
  {
   "cell_type": "markdown",
   "metadata": {},
   "source": [
    "### Código Próprio "
   ]
  },
  {
   "cell_type": "code",
   "execution_count": 8,
   "metadata": {
    "ExecuteTime": {
     "end_time": "2021-10-30T15:34:08.912139Z",
     "start_time": "2021-10-30T15:34:08.788470Z"
    }
   },
   "outputs": [],
   "source": [
    "os.chdir(PASTA_PROJETO)\n",
    "import src.io.le_dados as le_dados\n",
    "import src.io.caminho as caminho\n",
    "import src.io.data_store as data_store\n",
    "import src.aquisicao as aquis\n",
    "import src.aquisicao.executa as aquis_ex"
   ]
  },
  {
   "cell_type": "markdown",
   "metadata": {},
   "source": [
    "---"
   ]
  },
  {
   "cell_type": "markdown",
   "metadata": {},
   "source": [
    "## DataStore "
   ]
  },
  {
   "cell_type": "code",
   "execution_count": 6,
   "metadata": {
    "ExecuteTime": {
     "end_time": "2021-10-30T15:31:24.943030Z",
     "start_time": "2021-10-30T15:31:24.821358Z"
    }
   },
   "outputs": [],
   "source": [
    "ds = data_store.DataStore(\"teste\")"
   ]
  },
  {
   "cell_type": "markdown",
   "metadata": {},
   "source": [
    "---"
   ]
  },
  {
   "cell_type": "markdown",
   "metadata": {},
   "source": [
    "## Aquisição "
   ]
  },
  {
   "cell_type": "markdown",
   "metadata": {},
   "source": [
    "### INEP "
   ]
  },
  {
   "cell_type": "code",
   "execution_count": null,
   "metadata": {
    "ExecuteTime": {
     "end_time": "2021-10-30T16:20:24.636059Z",
     "start_time": "2021-10-30T16:18:15.940261Z"
    }
   },
   "outputs": [],
   "source": [
    "for ano in range(2007, 2021):\n",
    "    for etl in [\"escola\", \"docente\", \"matricula\", \"gestor\", \"turma\"]:\n",
    "        if etl == \"gestor\" and ano <= 2018:\n",
    "            continue\n",
    "        aquis_ex.executa_etl_microdado_inep(etl, ds, str(ano), True, True)\n",
    "aquis_ex.executa_etl(\"ideb\", ds, True, True)"
   ]
  },
  {
   "cell_type": "markdown",
   "metadata": {},
   "source": [
    "---"
   ]
  },
  {
   "cell_type": "markdown",
   "metadata": {},
   "source": [
    "## IDEB "
   ]
  },
  {
   "cell_type": "code",
   "execution_count": null,
   "metadata": {
    "ExecuteTime": {
     "end_time": "2021-10-22T01:03:14.687102Z",
     "start_time": "2021-10-22T01:01:20.450506Z"
    }
   },
   "outputs": [],
   "source": [
    "caminho_entrada = PASTA_EXTERNO / \"ideb\"\n",
    "caminho_saida = PASTA_TESTE_DADOS / \"externo/ideb\"\n",
    "caminho_saida.mkdir(exist_ok=True, parents=True)\n",
    "\n",
    "for f in tqdm(os.listdir(caminho_entrada)):\n",
    "    nome = os.path.splitext(f)[0]\n",
    "    with zipfile.ZipFile(caminho_entrada / f) as z:\n",
    "        data = pd.read_excel(z.open(f\"{nome}/{nome}.xlsx\"), header=None)\n",
    "        sample = (\n",
    "            data.head(10)\n",
    "            .append(data[data[3].astype(\"str\").isin(escolas.astype(\"str\"))])\n",
    "            .append(data.tail(3))\n",
    "        )\n",
    "        \n",
    "    with zipfile.ZipFile(\n",
    "        caminho_saida / f, \n",
    "        mode=\"w\", \n",
    "        compression=zipfile.ZIP_DEFLATED, \n",
    "        compresslevel=9\n",
    "    ) as zout:\n",
    "        sample.to_excel(caminho_saida / f\"{nome}.xlsx\", header=None, index=False)\n",
    "        zout.write(caminho_saida / f\"{nome}.xlsx\", f\"{nome}/{nome}.xlsx\")\n",
    "        os.remove(caminho_saida / f\"{nome}.xlsx\")"
   ]
  },
  {
   "cell_type": "markdown",
   "metadata": {},
   "source": [
    "---"
   ]
  }
 ],
 "metadata": {
  "kernelspec": {
   "display_name": "Python 3",
   "language": "python",
   "name": "python3"
  },
  "language_info": {
   "codemirror_mode": {
    "name": "ipython",
    "version": 3
   },
   "file_extension": ".py",
   "mimetype": "text/x-python",
   "name": "python",
   "nbconvert_exporter": "python",
   "pygments_lexer": "ipython3",
   "version": "3.8.11"
  },
  "toc": {
   "base_numbering": 1,
   "nav_menu": {},
   "number_sections": true,
   "sideBar": true,
   "skip_h1_title": true,
   "title_cell": "Table of Contents",
   "title_sidebar": "Contents",
   "toc_cell": false,
   "toc_position": {},
   "toc_section_display": true,
   "toc_window_display": true
  },
  "varInspector": {
   "cols": {
    "lenName": 16,
    "lenType": 16,
    "lenVar": 40
   },
   "kernels_config": {
    "python": {
     "delete_cmd_postfix": "",
     "delete_cmd_prefix": "del ",
     "library": "var_list.py",
     "varRefreshCmd": "print(var_dic_list())"
    },
    "r": {
     "delete_cmd_postfix": ") ",
     "delete_cmd_prefix": "rm(",
     "library": "var_list.r",
     "varRefreshCmd": "cat(var_dic_list()) "
    }
   },
   "types_to_exclude": [
    "module",
    "function",
    "builtin_function_or_method",
    "instance",
    "_Feature"
   ],
   "window_display": false
  }
 },
 "nbformat": 4,
 "nbformat_minor": 4
}
